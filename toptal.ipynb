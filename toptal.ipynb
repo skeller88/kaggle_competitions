{
 "cells": [
  {
   "cell_type": "code",
   "execution_count": 1,
   "metadata": {},
   "outputs": [],
   "source": [
    "%matplotlib inline\n",
    "\n",
    "from joblib import dump, load\n",
    "import itertools\n",
    "import json\n",
    "import math\n",
    "import os\n",
    "import random\n",
    "import time\n",
    "from typing import Callable, Dict, List\n",
    "\n",
    "from hyperopt import fmin, hp, tpe, Trials, STATUS_OK\n",
    "from hyperopt.pyll.base import scope\n",
    "import matplotlib\n",
    "import matplotlib.pyplot as plt\n",
    "import numpy as np\n",
    "import pandas as pd\n",
    "import seaborn as sns\n",
    "from scipy import stats\n",
    "from scipy.stats import norm\n",
    "\n",
    "# scikit-learn\n",
    "import sklearn\n",
    "from sklearn.base import clone\n",
    "from sklearn.compose import ColumnTransformer\n",
    "from sklearn.ensemble import ExtraTreesClassifier, GradientBoostingClassifier, RandomForestClassifier\n",
    "from sklearn.metrics import accuracy_score, average_precision_score, confusion_matrix, \\\n",
    "    f1_score, fbeta_score, log_loss, make_scorer, mean_squared_error, precision_recall_fscore_support, \\\n",
    "    precision_score, precision_recall_curve, recall_score\n",
    "from sklearn.model_selection import cross_validate, train_test_split, StratifiedKFold, StratifiedShuffleSplit\n",
    "from sklearn.neighbors import KNeighborsClassifier\n",
    "from sklearn.pipeline import Pipeline\n",
    "from sklearn.preprocessing import FunctionTransformer, OneHotEncoder, StandardScaler, MinMaxScaler, RobustScaler\n",
    "from sklearn.svm import SVC\n",
    "\n",
    "# statsmodels\n",
    "from statsmodels.stats.outliers_influence import variance_inflation_factor\n",
    "\n",
    "\n",
    "# Models\n",
    "from catboost import CatBoostRegressor\n",
    "from lightgbm import LGBMRegressor\n",
    "from xgboost import XGBClassifier, XGBRegressor\n",
    "\n",
    "# NLP\n",
    "import gc\n",
    "import re\n",
    "import string\n",
    "import operator\n",
    "from collections import defaultdict\n",
    "\n",
    "\n",
    "\n",
    "\n",
    "# Configure options\n",
    "pd.set_option('display.max_rows', 500)\n",
    "pd.set_option('display.max_columns', 500)\n",
    "pd.set_option('display.width', 1000)\n",
    "\n",
    "random_state = 11\n",
    "\n",
    "random.seed(random_state)\n",
    "np.random.seed(random_state)"
   ]
  },
  {
   "cell_type": "code",
   "execution_count": 3,
   "metadata": {},
   "outputs": [],
   "source": [
    "root = '/home/jovyan/work'\n",
    "\n",
    "df = pd.read_csv(root + '/Downloads/diabetes.csv')"
   ]
  },
  {
   "cell_type": "code",
   "execution_count": 4,
   "metadata": {},
   "outputs": [
    {
     "data": {
      "text/plain": [
       "70000"
      ]
     },
     "execution_count": 4,
     "metadata": {},
     "output_type": "execute_result"
    }
   ],
   "source": [
    "len(df)"
   ]
  },
  {
   "cell_type": "code",
   "execution_count": 10,
   "metadata": {},
   "outputs": [
    {
     "data": {
      "text/html": [
       "<div>\n",
       "<style scoped>\n",
       "    .dataframe tbody tr th:only-of-type {\n",
       "        vertical-align: middle;\n",
       "    }\n",
       "\n",
       "    .dataframe tbody tr th {\n",
       "        vertical-align: top;\n",
       "    }\n",
       "\n",
       "    .dataframe thead th {\n",
       "        text-align: right;\n",
       "    }\n",
       "</style>\n",
       "<table border=\"1\" class=\"dataframe\">\n",
       "  <thead>\n",
       "    <tr style=\"text-align: right;\">\n",
       "      <th></th>\n",
       "      <th>id</th>\n",
       "      <th>age</th>\n",
       "      <th>gender</th>\n",
       "      <th>height</th>\n",
       "      <th>weight</th>\n",
       "      <th>cholesterol</th>\n",
       "      <th>gluc</th>\n",
       "      <th>smoke</th>\n",
       "      <th>alco</th>\n",
       "      <th>active</th>\n",
       "      <th>pressure</th>\n",
       "      <th>diabetes</th>\n",
       "    </tr>\n",
       "  </thead>\n",
       "  <tbody>\n",
       "  </tbody>\n",
       "</table>\n",
       "</div>"
      ],
      "text/plain": [
       "Empty DataFrame\n",
       "Columns: [id, age, gender, height, weight, cholesterol, gluc, smoke, alco, active, pressure, diabetes]\n",
       "Index: []"
      ]
     },
     "execution_count": 10,
     "metadata": {},
     "output_type": "execute_result"
    }
   ],
   "source": [
    "df[df.duplicated()]"
   ]
  },
  {
   "cell_type": "code",
   "execution_count": 11,
   "metadata": {},
   "outputs": [
    {
     "data": {
      "text/html": [
       "<div>\n",
       "<style scoped>\n",
       "    .dataframe tbody tr th:only-of-type {\n",
       "        vertical-align: middle;\n",
       "    }\n",
       "\n",
       "    .dataframe tbody tr th {\n",
       "        vertical-align: top;\n",
       "    }\n",
       "\n",
       "    .dataframe thead th {\n",
       "        text-align: right;\n",
       "    }\n",
       "</style>\n",
       "<table border=\"1\" class=\"dataframe\">\n",
       "  <thead>\n",
       "    <tr style=\"text-align: right;\">\n",
       "      <th></th>\n",
       "      <th>id</th>\n",
       "      <th>age</th>\n",
       "      <th>gender</th>\n",
       "      <th>height</th>\n",
       "      <th>weight</th>\n",
       "      <th>cholesterol</th>\n",
       "      <th>gluc</th>\n",
       "      <th>smoke</th>\n",
       "      <th>alco</th>\n",
       "      <th>active</th>\n",
       "      <th>pressure</th>\n",
       "      <th>diabetes</th>\n",
       "    </tr>\n",
       "  </thead>\n",
       "  <tbody>\n",
       "    <tr>\n",
       "      <th>0</th>\n",
       "      <td>0</td>\n",
       "      <td>18393</td>\n",
       "      <td>f</td>\n",
       "      <td>168</td>\n",
       "      <td>62.0</td>\n",
       "      <td>low</td>\n",
       "      <td>low</td>\n",
       "      <td>0</td>\n",
       "      <td>0</td>\n",
       "      <td>1</td>\n",
       "      <td>110/80</td>\n",
       "      <td>0</td>\n",
       "    </tr>\n",
       "    <tr>\n",
       "      <th>1</th>\n",
       "      <td>1</td>\n",
       "      <td>20228</td>\n",
       "      <td>m</td>\n",
       "      <td>156</td>\n",
       "      <td>85.0</td>\n",
       "      <td>high</td>\n",
       "      <td>low</td>\n",
       "      <td>0</td>\n",
       "      <td>0</td>\n",
       "      <td>1</td>\n",
       "      <td>140/90</td>\n",
       "      <td>0</td>\n",
       "    </tr>\n",
       "    <tr>\n",
       "      <th>2</th>\n",
       "      <td>2</td>\n",
       "      <td>18857</td>\n",
       "      <td>m</td>\n",
       "      <td>165</td>\n",
       "      <td>64.0</td>\n",
       "      <td>high</td>\n",
       "      <td>low</td>\n",
       "      <td>0</td>\n",
       "      <td>0</td>\n",
       "      <td>0</td>\n",
       "      <td>130/70</td>\n",
       "      <td>0</td>\n",
       "    </tr>\n",
       "    <tr>\n",
       "      <th>3</th>\n",
       "      <td>3</td>\n",
       "      <td>17623</td>\n",
       "      <td>f</td>\n",
       "      <td>169</td>\n",
       "      <td>82.0</td>\n",
       "      <td>low</td>\n",
       "      <td>low</td>\n",
       "      <td>0</td>\n",
       "      <td>0</td>\n",
       "      <td>1</td>\n",
       "      <td>150/100</td>\n",
       "      <td>0</td>\n",
       "    </tr>\n",
       "    <tr>\n",
       "      <th>4</th>\n",
       "      <td>4</td>\n",
       "      <td>17474</td>\n",
       "      <td>m</td>\n",
       "      <td>156</td>\n",
       "      <td>56.0</td>\n",
       "      <td>low</td>\n",
       "      <td>low</td>\n",
       "      <td>0</td>\n",
       "      <td>0</td>\n",
       "      <td>0</td>\n",
       "      <td>100/60</td>\n",
       "      <td>0</td>\n",
       "    </tr>\n",
       "  </tbody>\n",
       "</table>\n",
       "</div>"
      ],
      "text/plain": [
       "   id    age gender  height  weight cholesterol gluc  smoke  alco  active pressure  diabetes\n",
       "0   0  18393      f     168    62.0         low  low      0     0       1   110/80         0\n",
       "1   1  20228      m     156    85.0        high  low      0     0       1   140/90         0\n",
       "2   2  18857      m     165    64.0        high  low      0     0       0   130/70         0\n",
       "3   3  17623      f     169    82.0         low  low      0     0       1  150/100         0\n",
       "4   4  17474      m     156    56.0         low  low      0     0       0   100/60         0"
      ]
     },
     "execution_count": 11,
     "metadata": {},
     "output_type": "execute_result"
    }
   ],
   "source": [
    "df.head()"
   ]
  },
  {
   "cell_type": "code",
   "execution_count": 26,
   "metadata": {},
   "outputs": [
    {
     "data": {
      "text/plain": [
       "defaultdict(list,\n",
       "            {'int64': ['id',\n",
       "              'age',\n",
       "              'height',\n",
       "              'smoke',\n",
       "              'alco',\n",
       "              'active',\n",
       "              'diabetes'],\n",
       "             'object': ['gender', 'cholesterol', 'gluc', 'pressure'],\n",
       "             'float64': ['weight'],\n",
       "             'int16': ['high_pressure', 'low_pressure']})"
      ]
     },
     "execution_count": 26,
     "metadata": {},
     "output_type": "execute_result"
    }
   ],
   "source": [
    "def get_types(df):\n",
    "    dtypes = defaultdict(list)\n",
    "    for col, dtype in df.dtypes.items():\n",
    "        dtypes[str(dtype)].append(col)\n",
    "    return dtypes\n",
    "\n",
    "get_types(df)"
   ]
  },
  {
   "cell_type": "code",
   "execution_count": 24,
   "metadata": {},
   "outputs": [],
   "source": [
    "df['low_pressure'] = df['pressure'].str.split('/')[0][1]\n",
    "df['low_pressure'] = df['low_pressure'].astype(np.int16)\n",
    "\n",
    "df['high_pressure'] = df['pressure'].str.split('/')[0][0]\n",
    "df['high_pressure'] = df['high_pressure'].astype(np.int16)"
   ]
  },
  {
   "cell_type": "code",
   "execution_count": 27,
   "metadata": {},
   "outputs": [],
   "source": [
    "def get_dummies_drop_level_and_join(df, column, level_to_drop):\n",
    "    dummies = pd.get_dummies(df[column]).drop([level_to_drop], axis=1)\n",
    "    return df.join(dummies).drop(column, axis=1)"
   ]
  },
  {
   "cell_type": "code",
   "execution_count": 58,
   "metadata": {},
   "outputs": [
    {
     "data": {
      "text/plain": [
       "Index(['id', 'age', 'height', 'weight', 'smoke', 'alco', 'active', 'diabetes', 'high_pressure', 'low_pressure', 'gender_m', 'cholesterol_low', 'cholesterol_medium', 'gluc_low', 'gluc_medium'], dtype='object')"
      ]
     },
     "execution_count": 58,
     "metadata": {},
     "output_type": "execute_result"
    }
   ],
   "source": [
    "df_processed = df.drop('pressure', axis=1)\n",
    "categorical_cols = ['gender', 'cholesterol', 'gluc']\n",
    "df_processed = df_processed.join(pd.get_dummies(df[categorical_cols], drop_first=True)).drop(\n",
    "    categorical_cols, axis=1\n",
    ")\n",
    "df_processed.columns"
   ]
  },
  {
   "cell_type": "code",
   "execution_count": 59,
   "metadata": {},
   "outputs": [],
   "source": [
    "df_processed = df_processed.drop('id', axis=1)"
   ]
  },
  {
   "cell_type": "code",
   "execution_count": 12,
   "metadata": {},
   "outputs": [],
   "source": [
    "target = 'diabetes'"
   ]
  },
  {
   "cell_type": "code",
   "execution_count": 60,
   "metadata": {},
   "outputs": [],
   "source": [
    "x = df_processed.drop(target, axis=1).values\n",
    "y = df_processed[target].values"
   ]
  },
  {
   "cell_type": "code",
   "execution_count": 66,
   "metadata": {},
   "outputs": [],
   "source": [
    "xtrain, xtest, ytrain, ytest = train_test_split(\n",
    "    *[x, y], random_state=random_state, test_size=.2, stratify=y)\n",
    "\n",
    "cv = StratifiedKFold(n_splits=5, random_state=random_state, shuffle=True)\n",
    "clf = XGBClassifier()"
   ]
  },
  {
   "cell_type": "code",
   "execution_count": 67,
   "metadata": {},
   "outputs": [
    {
     "data": {
      "text/plain": [
       "{'fit_time': array([1.04246521, 0.99569011, 1.02209425, 0.98024392, 0.99937034]),\n",
       " 'score_time': array([0.01460671, 0.01385331, 0.01960015, 0.01667643, 0.01576853]),\n",
       " 'test_score': array([0.94776786, 0.94803571, 0.950625  , 0.95017857, 0.94544643])}"
      ]
     },
     "execution_count": 67,
     "metadata": {},
     "output_type": "execute_result"
    }
   ],
   "source": [
    "cross_validate(clf, xtrain, ytrain, scoring=make_scorer(accuracy_score), cv=cv)"
   ]
  },
  {
   "cell_type": "code",
   "execution_count": 43,
   "metadata": {},
   "outputs": [],
   "source": [
    "clf = clf.fit(xtrain, ytrain)\n",
    "pred_probas = clf.predict_proba(xtest)"
   ]
  },
  {
   "cell_type": "code",
   "execution_count": 45,
   "metadata": {},
   "outputs": [
    {
     "data": {
      "text/plain": [
       "array([[<matplotlib.axes._subplots.AxesSubplot object at 0x7fb27f8ce438>]],\n",
       "      dtype=object)"
      ]
     },
     "execution_count": 45,
     "metadata": {},
     "output_type": "execute_result"
    },
    {
     "data": {
      "image/png": "[encoded data removed]",
      "text/plain": [
       "<Figure size 432x288 with 1 Axes>"
      ]
     },
     "metadata": {
      "needs_background": "light"
     },
     "output_type": "display_data"
    }
   ],
   "source": [
    "pd.DataFrame(pred_probas[:, 1]).hist()"
   ]
  },
  {
   "cell_type": "code",
   "execution_count": 64,
   "metadata": {},
   "outputs": [
    {
     "data": {
      "text/plain": [
       "0.9464285714285714"
      ]
     },
     "execution_count": 64,
     "metadata": {},
     "output_type": "execute_result"
    }
   ],
   "source": [
    "preds = np.array([0 if prob < .5 else 1 for prob in pred_probas[:, 1]])\n",
    "accuracy_score(ytest, preds)"
   ]
  },
  {
   "cell_type": "code",
   "execution_count": 54,
   "metadata": {},
   "outputs": [
    {
     "name": "stdout",
     "output_type": "stream",
     "text": [
      "(0.1, 9)\n",
      "{'fit_time': array([1.92388892, 2.08819175, 2.1951654 , 2.05064487, 2.13600445]), 'score_time': array([0.02730799, 0.02722287, 0.03424358, 0.03177786, 0.02965307]), 'test_score': array([0.94821429, 0.94839286, 0.95044643, 0.94839286, 0.94857143])}\n",
      "(0.3, 9)\n",
      "{'fit_time': array([2.12365842, 2.16420913, 1.91396308, 1.87248373, 1.92219901]), 'score_time': array([0.02664018, 0.02578092, 0.02702546, 0.02563834, 0.02769208]), 'test_score': array([0.94714286, 0.94580357, 0.94848214, 0.94714286, 0.94776786])}\n",
      "(0.5, 9)\n",
      "{'fit_time': array([1.93923521, 1.80526376, 1.85535622, 1.83665109, 1.91323543]), 'score_time': array([0.0250771 , 0.02799511, 0.02595758, 0.0253346 , 0.02770901]), 'test_score': array([0.94383929, 0.94321429, 0.94767857, 0.94758929, 0.94544643])}\n"
     ]
    }
   ],
   "source": [
    "for params in [\n",
    "    (0.1, 9),\n",
    "    (.3, 9),\n",
    "    (0.5, 9)\n",
    "]:\n",
    "    print(params)\n",
    "    clf = XGBClassifier(learning_rate=params[0], max_depth=params[1])\n",
    "    print(cross_validate(clf, xtrain, ytrain, scoring=make_scorer(accuracy_score), cv=cv))\n",
    "    "
   ]
  },
  {
   "cell_type": "code",
   "execution_count": null,
   "metadata": {},
   "outputs": [],
   "source": [
    "# from hyperopt import hp\n",
    "# from hyperopt.pyll.base import scope\n",
    "# from xgboost import XGBClassifier\n",
    "\n",
    "# from src.train import score_func\n",
    "\n",
    "# # Haven't found a paper yet that gives the best parameters\n",
    "# xgb_classifier_space = {\n",
    "#     # mlm - 50 - 400\n",
    "#     # n_estimators\n",
    "#     # av - 3 - 10\n",
    "#     # # kaggle tilii7 - 3-5\n",
    "#     # tds - hp tuning the smart way - 3 - 15\n",
    "#     'max_depth': scope.int(hp.quniform('max_depth', 1, 9, 1)),\n",
    "#     # av - .01 - .2\n",
    "#     # tds - hp tuning the smart way - .05 - .3\n",
    "#     'learning_rate': hp.quniform('eta', 0.025, 0.5, 0.025),\n",
    "#     # 'learning_rate': hp.quniform('eta', 0.025, 0.5, 0.025),\n",
    "#     # Don't tune the booster. AnalyticsVidhya says gblinear rarely used, and\n",
    "#     # XGB documentation says dart is slow.\n",
    "#     # 'booster': hp.choice(['gbtree', 'dart']),\n",
    "#     # Already parallelzing cv training\n",
    "#     'n_jobs': 1,\n",
    "#     # kaggle tilii7 - .5 - 5 with .5 step\n",
    "#     # tds - hp tuning the smart way - 0 - .4 with .1 step\n",
    "#     'gamma': hp.quniform('gamma', 0.5, 1, 0.05),\n",
    "#     # kaggle tilii7 - 1-10\n",
    "#     'min_child_weight': scope.int(hp.quniform('min_child_weight', 1, 6, 1)),\n",
    "#     'subsample': hp.quniform('subsample', 0.5, 1, 0.05),\n",
    "#     # tds - hp tuning the smart way - .3 - .7\n",
    "#     'colsample_bytree': hp.quniform('colsample_bytree', 0.5, 1, 0.05),\n",
    "# }\n",
    "\n",
    "\n",
    "# def xgb_pipeline_factory(**params):\n",
    "#     \"\"\"\n",
    "#     From xgboost documentation: https://xgboost.readthedocs.io/en/latest/python/python_api.html?highlight=n_estimators\n",
    "#     \"**kwargs is unsupported by scikit-learn. We do not guarantee that parameters passed via this argument will\n",
    "#     interact properly with scikit-learn.\"\n",
    "#     :param params:\n",
    "#     :return:\n",
    "#     \"\"\"\n",
    "#     return XGBClassifier(\n",
    "#         learning_rate=params['learning_rate'],\n",
    "#         max_depth=params['max_depth'],\n",
    "#         min_child_weight=params['min_child_weight'],\n",
    "#         subsample=params['subsample'],\n",
    "#         gamma=params['gamma'],\n",
    "#         colsample_bytree=params['colsample_bytree'],\n",
    "#     )\n",
    "\n",
    "\n",
    "# def score_func_with_defaults(params):\n",
    "#     pipeline_output_dir = \"/home/jovyan/work/data/ultimate_challenge/pipelines\"\n",
    "#     return score_func(random_state=random_state,\n",
    "#                       pipeline_factory=xgb_pipeline_factory,\n",
    "#                       pipeline_output_dir=pipeline_output_dir,\n",
    "#                       n_jobs=n_jobs,\n",
    "#                       pipeline_name=pipeline_name,\n",
    "#                       scoring=scoring,\n",
    "#                       xtrain=xtrain,\n",
    "#                       ytrain=ytrain,\n",
    "#                       params=params)\n"
   ]
  },
  {
   "cell_type": "code",
   "execution_count": 68,
   "metadata": {},
   "outputs": [
    {
     "data": {
      "text/plain": [
       "0.9486428571428571"
      ]
     },
     "execution_count": 68,
     "metadata": {},
     "output_type": "execute_result"
    }
   ],
   "source": [
    "clf = RandomForestClassifier()\n",
    "clf = clf.fit(xtrain, ytrain)\n",
    "pred_probas = clf.predict_proba(xtest)\n",
    "preds = np.array([0 if prob < .5 else 1 for prob in pred_probas[:, 1]])\n",
    "accuracy_score(ytest, preds)"
   ]
  }
 ],
 "metadata": {
  "kernelspec": {
   "display_name": "Python [conda env:env] *",
   "language": "python",
   "name": "conda-env-env-py"
  },
  "language_info": {
   "codemirror_mode": {
    "name": "ipython",
    "version": 3
   },
   "file_extension": ".py",
   "mimetype": "text/x-python",
   "name": "python",
   "nbconvert_exporter": "python",
   "pygments_lexer": "ipython3",
   "version": "3.6.10"
  }
 },
 "nbformat": 4,
 "nbformat_minor": 4
}
