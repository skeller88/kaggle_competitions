{
 "cells": [
  {
   "cell_type": "code",
   "execution_count": 7,
   "metadata": {},
   "outputs": [
    {
     "name": "stdout",
     "output_type": "stream",
     "text": [
      "Collecting pdpbox\n",
      "  Downloading PDPbox-0.2.0.tar.gz (57.7 MB)\n",
      "\u001b[K     |████████████████████████████████| 57.7 MB 52.8 MB/s eta 0:00:01    |██████                          | 10.9 MB 2.3 MB/s eta 0:00:21     |██████████████▌                 | 26.1 MB 23.3 MB/s eta 0:00:02\n",
      "\u001b[?25hRequirement already satisfied: pandas in /opt/conda/envs/env/lib/python3.6/site-packages (from pdpbox) (1.0.3)\n",
      "Requirement already satisfied: numpy in /opt/conda/envs/env/lib/python3.6/site-packages (from pdpbox) (1.18.1)\n",
      "Requirement already satisfied: scipy in /opt/conda/envs/env/lib/python3.6/site-packages (from pdpbox) (1.4.1)\n",
      "Requirement already satisfied: matplotlib>=2.1.2 in /opt/conda/envs/env/lib/python3.6/site-packages (from pdpbox) (3.2.1)\n",
      "Requirement already satisfied: joblib in /opt/conda/envs/env/lib/python3.6/site-packages (from pdpbox) (0.14.1)\n",
      "Requirement already satisfied: psutil in /opt/conda/envs/env/lib/python3.6/site-packages (from pdpbox) (5.7.0)\n",
      "Requirement already satisfied: scikit-learn in /opt/conda/envs/env/lib/python3.6/site-packages (from pdpbox) (0.22.2.post1)\n",
      "Requirement already satisfied: pytz>=2017.2 in /opt/conda/envs/env/lib/python3.6/site-packages (from pandas->pdpbox) (2019.3)\n",
      "Requirement already satisfied: python-dateutil>=2.6.1 in /opt/conda/envs/env/lib/python3.6/site-packages (from pandas->pdpbox) (2.8.1)\n",
      "Requirement already satisfied: pyparsing!=2.0.4,!=2.1.2,!=2.1.6,>=2.0.1 in /opt/conda/envs/env/lib/python3.6/site-packages (from matplotlib>=2.1.2->pdpbox) (2.4.7)\n",
      "Requirement already satisfied: kiwisolver>=1.0.1 in /opt/conda/envs/env/lib/python3.6/site-packages (from matplotlib>=2.1.2->pdpbox) (1.2.0)\n",
      "Requirement already satisfied: cycler>=0.10 in /opt/conda/envs/env/lib/python3.6/site-packages (from matplotlib>=2.1.2->pdpbox) (0.10.0)\n",
      "Requirement already satisfied: six>=1.5 in /opt/conda/envs/env/lib/python3.6/site-packages (from python-dateutil>=2.6.1->pandas->pdpbox) (1.14.0)\n",
      "Building wheels for collected packages: pdpbox\n",
      "  Building wheel for pdpbox (setup.py) ... \u001b[?25ldone\n",
      "\u001b[?25h  Created wheel for pdpbox: filename=PDPbox-0.2.0-py3-none-any.whl size=57690722 sha256=54065c094d0c51b973679511a909248aef1672b2ff297d9865dfcd142815a17c\n",
      "  Stored in directory: /root/.cache/pip/wheels/23/d4/d0/7c7a2adaab2fa7c7108e86c0eb7272fa8e2cd0b6b6732d2e15\n",
      "Successfully built pdpbox\n",
      "Installing collected packages: pdpbox\n",
      "Successfully installed pdpbox-0.2.0\n"
     ]
    }
   ],
   "source": [
    "!pip install pdpbox\n",
    "from pdpbox import pdp, info_plots"
   ]
  },
  {
   "cell_type": "code",
   "execution_count": 3,
   "metadata": {},
   "outputs": [],
   "source": [
    "%matplotlib inline\n",
    "\n",
    "from joblib import dump, load\n",
    "import itertools\n",
    "import json\n",
    "import math\n",
    "import os\n",
    "import random\n",
    "import time\n",
    "from typing import Callable, Dict, List\n",
    "\n",
    "from hyperopt import fmin, hp, tpe, Trials, STATUS_OK\n",
    "from hyperopt.pyll.base import scope\n",
    "import matplotlib\n",
    "import matplotlib.pyplot as plt\n",
    "import numpy as np\n",
    "import pandas as pd\n",
    "import seaborn as sns\n",
    "from scipy import stats\n",
    "from scipy.stats import norm\n",
    "\n",
    "# scikit-learn\n",
    "import sklearn\n",
    "from sklearn.base import clone\n",
    "from sklearn.compose import ColumnTransformer\n",
    "from sklearn.ensemble import ExtraTreesClassifier, GradientBoostingClassifier, RandomForestClassifier\n",
    "from sklearn.metrics import accuracy_score, average_precision_score, confusion_matrix, \\\n",
    "    f1_score, fbeta_score, log_loss, make_scorer, mean_squared_error, precision_recall_fscore_support, \\\n",
    "    precision_score, precision_recall_curve, recall_score\n",
    "from sklearn.model_selection import cross_validate, train_test_split, StratifiedKFold, StratifiedShuffleSplit\n",
    "from sklearn.neighbors import KNeighborsClassifier\n",
    "from sklearn.pipeline import Pipeline\n",
    "from sklearn.preprocessing import FunctionTransformer, OneHotEncoder, StandardScaler, MinMaxScaler, RobustScaler\n",
    "from sklearn.svm import SVC\n",
    "\n",
    "# statsmodels\n",
    "from statsmodels.stats.outliers_influence import variance_inflation_factor\n",
    "\n",
    "\n",
    "# Models\n",
    "from catboost import CatBoostRegressor\n",
    "from lightgbm import LGBMRegressor\n",
    "from xgboost import XGBClassifier, XGBRegressor\n",
    "\n",
    "# Tensorflow\n",
    "\n",
    "\n",
    "# NLP\n",
    "import gc\n",
    "import re\n",
    "import string\n",
    "import operator\n",
    "from collections import defaultdict\n",
    "\n",
    "\n",
    "\n",
    "\n",
    "# Configure options\n",
    "pd.set_option('display.max_rows', 500)\n",
    "pd.set_option('display.max_columns', 500)\n",
    "pd.set_option('display.width', 1000)\n",
    "\n",
    "random_state = 11\n",
    "\n",
    "random.seed(random_state)\n",
    "np.random.seed(random_state)"
   ]
  },
  {
   "cell_type": "code",
   "execution_count": 95,
   "metadata": {},
   "outputs": [],
   "source": [
    "#read from google drive\n",
    "df = pd.read_csv('https://drive.google.com/uc?export=download&id=1H_-mi6NzeZt1PhcanHofcf3H6UiItmxO')"
   ]
  },
  {
   "cell_type": "code",
   "execution_count": 9,
   "metadata": {},
   "outputs": [
    {
     "data": {
      "text/html": [
       "<div>\n",
       "<style scoped>\n",
       "    .dataframe tbody tr th:only-of-type {\n",
       "        vertical-align: middle;\n",
       "    }\n",
       "\n",
       "    .dataframe tbody tr th {\n",
       "        vertical-align: top;\n",
       "    }\n",
       "\n",
       "    .dataframe thead th {\n",
       "        text-align: right;\n",
       "    }\n",
       "</style>\n",
       "<table border=\"1\" class=\"dataframe\">\n",
       "  <thead>\n",
       "    <tr style=\"text-align: right;\">\n",
       "      <th></th>\n",
       "      <th>user_id</th>\n",
       "      <th>source</th>\n",
       "      <th>device</th>\n",
       "      <th>operative_system</th>\n",
       "      <th>lat</th>\n",
       "      <th>long</th>\n",
       "      <th>weekday</th>\n",
       "      <th>yearweek</th>\n",
       "      <th>converted</th>\n",
       "    </tr>\n",
       "  </thead>\n",
       "  <tbody>\n",
       "    <tr>\n",
       "      <th>0</th>\n",
       "      <td>3</td>\n",
       "      <td>seo_facebook</td>\n",
       "      <td>web</td>\n",
       "      <td>mac</td>\n",
       "      <td>38.89</td>\n",
       "      <td>-94.81</td>\n",
       "      <td>Friday</td>\n",
       "      <td>16</td>\n",
       "      <td>0</td>\n",
       "    </tr>\n",
       "    <tr>\n",
       "      <th>1</th>\n",
       "      <td>9</td>\n",
       "      <td>seo-google</td>\n",
       "      <td>mobile</td>\n",
       "      <td>android</td>\n",
       "      <td>41.68</td>\n",
       "      <td>-72.94</td>\n",
       "      <td>Friday</td>\n",
       "      <td>18</td>\n",
       "      <td>0</td>\n",
       "    </tr>\n",
       "    <tr>\n",
       "      <th>2</th>\n",
       "      <td>14</td>\n",
       "      <td>friend_referral</td>\n",
       "      <td>mobile</td>\n",
       "      <td>iOS</td>\n",
       "      <td>39.74</td>\n",
       "      <td>-75.53</td>\n",
       "      <td>Saturday</td>\n",
       "      <td>13</td>\n",
       "      <td>0</td>\n",
       "    </tr>\n",
       "    <tr>\n",
       "      <th>3</th>\n",
       "      <td>16</td>\n",
       "      <td>ads-google</td>\n",
       "      <td>mobile</td>\n",
       "      <td>android</td>\n",
       "      <td>37.99</td>\n",
       "      <td>-121.80</td>\n",
       "      <td>Friday</td>\n",
       "      <td>21</td>\n",
       "      <td>0</td>\n",
       "    </tr>\n",
       "    <tr>\n",
       "      <th>4</th>\n",
       "      <td>19</td>\n",
       "      <td>ads-google</td>\n",
       "      <td>mobile</td>\n",
       "      <td>android</td>\n",
       "      <td>41.08</td>\n",
       "      <td>-81.52</td>\n",
       "      <td>Wednesday</td>\n",
       "      <td>14</td>\n",
       "      <td>0</td>\n",
       "    </tr>\n",
       "    <tr>\n",
       "      <th>...</th>\n",
       "      <td>...</td>\n",
       "      <td>...</td>\n",
       "      <td>...</td>\n",
       "      <td>...</td>\n",
       "      <td>...</td>\n",
       "      <td>...</td>\n",
       "      <td>...</td>\n",
       "      <td>...</td>\n",
       "      <td>...</td>\n",
       "    </tr>\n",
       "    <tr>\n",
       "      <th>275611</th>\n",
       "      <td>999978</td>\n",
       "      <td>direct_traffic</td>\n",
       "      <td>mobile</td>\n",
       "      <td>android</td>\n",
       "      <td>39.78</td>\n",
       "      <td>-86.15</td>\n",
       "      <td>Saturday</td>\n",
       "      <td>20</td>\n",
       "      <td>0</td>\n",
       "    </tr>\n",
       "    <tr>\n",
       "      <th>275612</th>\n",
       "      <td>999979</td>\n",
       "      <td>direct_traffic</td>\n",
       "      <td>web</td>\n",
       "      <td>windows</td>\n",
       "      <td>31.10</td>\n",
       "      <td>-97.72</td>\n",
       "      <td>Friday</td>\n",
       "      <td>19</td>\n",
       "      <td>0</td>\n",
       "    </tr>\n",
       "    <tr>\n",
       "      <th>275613</th>\n",
       "      <td>999992</td>\n",
       "      <td>ads_facebook</td>\n",
       "      <td>web</td>\n",
       "      <td>windows</td>\n",
       "      <td>40.77</td>\n",
       "      <td>-74.03</td>\n",
       "      <td>Saturday</td>\n",
       "      <td>19</td>\n",
       "      <td>0</td>\n",
       "    </tr>\n",
       "    <tr>\n",
       "      <th>275614</th>\n",
       "      <td>999993</td>\n",
       "      <td>ads_facebook</td>\n",
       "      <td>web</td>\n",
       "      <td>windows</td>\n",
       "      <td>39.04</td>\n",
       "      <td>-95.69</td>\n",
       "      <td>Wednesday</td>\n",
       "      <td>11</td>\n",
       "      <td>0</td>\n",
       "    </tr>\n",
       "    <tr>\n",
       "      <th>275615</th>\n",
       "      <td>999999</td>\n",
       "      <td>seo-yahoo</td>\n",
       "      <td>mobile</td>\n",
       "      <td>iOS</td>\n",
       "      <td>38.89</td>\n",
       "      <td>-94.81</td>\n",
       "      <td>Sunday</td>\n",
       "      <td>19</td>\n",
       "      <td>0</td>\n",
       "    </tr>\n",
       "  </tbody>\n",
       "</table>\n",
       "<p>275616 rows × 9 columns</p>\n",
       "</div>"
      ],
      "text/plain": [
       "        user_id           source  device operative_system    lat    long    weekday  yearweek  converted\n",
       "0             3     seo_facebook     web              mac  38.89  -94.81     Friday        16          0\n",
       "1             9       seo-google  mobile          android  41.68  -72.94     Friday        18          0\n",
       "2            14  friend_referral  mobile              iOS  39.74  -75.53   Saturday        13          0\n",
       "3            16       ads-google  mobile          android  37.99 -121.80     Friday        21          0\n",
       "4            19       ads-google  mobile          android  41.08  -81.52  Wednesday        14          0\n",
       "...         ...              ...     ...              ...    ...     ...        ...       ...        ...\n",
       "275611   999978   direct_traffic  mobile          android  39.78  -86.15   Saturday        20          0\n",
       "275612   999979   direct_traffic     web          windows  31.10  -97.72     Friday        19          0\n",
       "275613   999992     ads_facebook     web          windows  40.77  -74.03   Saturday        19          0\n",
       "275614   999993     ads_facebook     web          windows  39.04  -95.69  Wednesday        11          0\n",
       "275615   999999        seo-yahoo  mobile              iOS  38.89  -94.81     Sunday        19          0\n",
       "\n",
       "[275616 rows x 9 columns]"
      ]
     },
     "execution_count": 9,
     "metadata": {},
     "output_type": "execute_result"
    }
   ],
   "source": [
    "df"
   ]
  },
  {
   "cell_type": "code",
   "execution_count": 20,
   "metadata": {},
   "outputs": [
    {
     "data": {
      "text/plain": [
       "defaultdict(list,\n",
       "            {'int64': ['user_id', 'yearweek', 'converted'],\n",
       "             'category': ['source', 'device', 'operative_system', 'weekday'],\n",
       "             'float64': ['lat', 'long']})"
      ]
     },
     "execution_count": 20,
     "metadata": {},
     "output_type": "execute_result"
    }
   ],
   "source": [
    "def get_types(df):\n",
    "    dtypes = defaultdict(list)\n",
    "    for col, dtype in df.dtypes.items():\n",
    "        dtypes[str(dtype)].append(col)\n",
    "    return dtypes\n",
    "\n",
    "for col in ['source', 'device', 'operative_system', 'weekday']:\n",
    "    df[col] = df[col].astype('category')\n",
    "\n",
    "dtypes = get_types(df)\n",
    "dtypes"
   ]
  },
  {
   "cell_type": "code",
   "execution_count": 15,
   "metadata": {},
   "outputs": [
    {
     "data": {
      "text/plain": [
       "<matplotlib.axes._subplots.AxesSubplot at 0x7fc814718a90>"
      ]
     },
     "execution_count": 15,
     "metadata": {},
     "output_type": "execute_result"
    },
    {
     "data": {
      "image/png": "[encoded data removed]",
      "text/plain": [
       "<Figure size 432x288 with 1 Axes>"
      ]
     },
     "metadata": {
      "needs_background": "light"
     },
     "output_type": "display_data"
    }
   ],
   "source": [
    "df['converted'].hist()"
   ]
  },
  {
   "cell_type": "code",
   "execution_count": 18,
   "metadata": {},
   "outputs": [
    {
     "data": {
      "text/plain": [
       "0.018210118425635666"
      ]
     },
     "execution_count": 18,
     "metadata": {},
     "output_type": "execute_result"
    }
   ],
   "source": [
    "df['converted'].sum() / df['converted'].count()"
   ]
  },
  {
   "cell_type": "code",
   "execution_count": 22,
   "metadata": {},
   "outputs": [
    {
     "data": {
      "text/plain": [
       "[seo_facebook, seo-google, friend_referral, ads-google, ads-bing, ..., ads_other, seo-other, ads-yahoo, seo-yahoo, seo-bing]\n",
       "Length: 12\n",
       "Categories (12, object): [seo_facebook, seo-google, friend_referral, ads-google, ..., seo-other, ads-yahoo, seo-yahoo, seo-bing]"
      ]
     },
     "execution_count": 22,
     "metadata": {},
     "output_type": "execute_result"
    }
   ],
   "source": [
    "df['source'].unique()"
   ]
  },
  {
   "cell_type": "code",
   "execution_count": 30,
   "metadata": {},
   "outputs": [
    {
     "data": {
      "text/plain": [
       "source\n",
       "direct_traffic     0.190823\n",
       "ads-google         0.187130\n",
       "ads_facebook       0.168223\n",
       "ads_other          0.094639\n",
       "seo-google         0.073134\n",
       "ads-bing           0.072155\n",
       "seo_facebook       0.067024\n",
       "friend_referral    0.065348\n",
       "seo-other          0.029236\n",
       "ads-yahoo          0.023859\n",
       "seo-yahoo          0.021628\n",
       "seo-bing           0.006799\n",
       "Name: user_id, dtype: float64"
      ]
     },
     "execution_count": 30,
     "metadata": {},
     "output_type": "execute_result"
    }
   ],
   "source": [
    "# set direct_traffic as the reference level for source and drop it because it's the most common\n",
    "(df.groupby('source').count()['user_id'] / len(df)).sort_values(ascending=False)"
   ]
  },
  {
   "cell_type": "code",
   "execution_count": 65,
   "metadata": {},
   "outputs": [],
   "source": [
    "df['seo_source'] = df['source'].str.contains('seo').astype(int)\n",
    "df['ads_source'] = df['source'].str.contains('ads').astype(int)\n",
    "df['friend_referral_source'] = df['source'].str.contains('friend_referral').astype(int)\n",
    "\n",
    "for company in ['bing', 'google', 'facebook', 'other', 'yahoo']:\n",
    "    df[f'{company}_source'] = df['source'].str.contains(company).astype(int)\n",
    "\n",
    "df = df.drop('source', axis=1)"
   ]
  },
  {
   "cell_type": "code",
   "execution_count": 34,
   "metadata": {},
   "outputs": [
    {
     "data": {
      "text/html": [
       "<div>\n",
       "<style scoped>\n",
       "    .dataframe tbody tr th:only-of-type {\n",
       "        vertical-align: middle;\n",
       "    }\n",
       "\n",
       "    .dataframe tbody tr th {\n",
       "        vertical-align: top;\n",
       "    }\n",
       "\n",
       "    .dataframe thead th {\n",
       "        text-align: right;\n",
       "    }\n",
       "</style>\n",
       "<table border=\"1\" class=\"dataframe\">\n",
       "  <thead>\n",
       "    <tr style=\"text-align: right;\">\n",
       "      <th></th>\n",
       "      <th>user_id</th>\n",
       "      <th>device</th>\n",
       "      <th>operative_system</th>\n",
       "      <th>lat</th>\n",
       "      <th>long</th>\n",
       "      <th>weekday</th>\n",
       "      <th>yearweek</th>\n",
       "      <th>converted</th>\n",
       "      <th>is_seo_source</th>\n",
       "      <th>is_ads_source</th>\n",
       "      <th>is_friend_referral_source</th>\n",
       "      <th>is_bing_source</th>\n",
       "      <th>is_google_source</th>\n",
       "      <th>is_facebook_source</th>\n",
       "      <th>is_other_source</th>\n",
       "      <th>is_yahoo_source</th>\n",
       "    </tr>\n",
       "  </thead>\n",
       "  <tbody>\n",
       "    <tr>\n",
       "      <th>0</th>\n",
       "      <td>3</td>\n",
       "      <td>web</td>\n",
       "      <td>mac</td>\n",
       "      <td>38.89</td>\n",
       "      <td>-94.81</td>\n",
       "      <td>Friday</td>\n",
       "      <td>16</td>\n",
       "      <td>0</td>\n",
       "      <td>1</td>\n",
       "      <td>0</td>\n",
       "      <td>0</td>\n",
       "      <td>0</td>\n",
       "      <td>0</td>\n",
       "      <td>1</td>\n",
       "      <td>0</td>\n",
       "      <td>0</td>\n",
       "    </tr>\n",
       "    <tr>\n",
       "      <th>1</th>\n",
       "      <td>9</td>\n",
       "      <td>mobile</td>\n",
       "      <td>android</td>\n",
       "      <td>41.68</td>\n",
       "      <td>-72.94</td>\n",
       "      <td>Friday</td>\n",
       "      <td>18</td>\n",
       "      <td>0</td>\n",
       "      <td>1</td>\n",
       "      <td>0</td>\n",
       "      <td>0</td>\n",
       "      <td>0</td>\n",
       "      <td>1</td>\n",
       "      <td>0</td>\n",
       "      <td>0</td>\n",
       "      <td>0</td>\n",
       "    </tr>\n",
       "    <tr>\n",
       "      <th>2</th>\n",
       "      <td>14</td>\n",
       "      <td>mobile</td>\n",
       "      <td>iOS</td>\n",
       "      <td>39.74</td>\n",
       "      <td>-75.53</td>\n",
       "      <td>Saturday</td>\n",
       "      <td>13</td>\n",
       "      <td>0</td>\n",
       "      <td>0</td>\n",
       "      <td>0</td>\n",
       "      <td>1</td>\n",
       "      <td>0</td>\n",
       "      <td>0</td>\n",
       "      <td>0</td>\n",
       "      <td>0</td>\n",
       "      <td>0</td>\n",
       "    </tr>\n",
       "    <tr>\n",
       "      <th>3</th>\n",
       "      <td>16</td>\n",
       "      <td>mobile</td>\n",
       "      <td>android</td>\n",
       "      <td>37.99</td>\n",
       "      <td>-121.80</td>\n",
       "      <td>Friday</td>\n",
       "      <td>21</td>\n",
       "      <td>0</td>\n",
       "      <td>0</td>\n",
       "      <td>1</td>\n",
       "      <td>0</td>\n",
       "      <td>0</td>\n",
       "      <td>1</td>\n",
       "      <td>0</td>\n",
       "      <td>0</td>\n",
       "      <td>0</td>\n",
       "    </tr>\n",
       "    <tr>\n",
       "      <th>4</th>\n",
       "      <td>19</td>\n",
       "      <td>mobile</td>\n",
       "      <td>android</td>\n",
       "      <td>41.08</td>\n",
       "      <td>-81.52</td>\n",
       "      <td>Wednesday</td>\n",
       "      <td>14</td>\n",
       "      <td>0</td>\n",
       "      <td>0</td>\n",
       "      <td>1</td>\n",
       "      <td>0</td>\n",
       "      <td>0</td>\n",
       "      <td>1</td>\n",
       "      <td>0</td>\n",
       "      <td>0</td>\n",
       "      <td>0</td>\n",
       "    </tr>\n",
       "    <tr>\n",
       "      <th>...</th>\n",
       "      <td>...</td>\n",
       "      <td>...</td>\n",
       "      <td>...</td>\n",
       "      <td>...</td>\n",
       "      <td>...</td>\n",
       "      <td>...</td>\n",
       "      <td>...</td>\n",
       "      <td>...</td>\n",
       "      <td>...</td>\n",
       "      <td>...</td>\n",
       "      <td>...</td>\n",
       "      <td>...</td>\n",
       "      <td>...</td>\n",
       "      <td>...</td>\n",
       "      <td>...</td>\n",
       "      <td>...</td>\n",
       "    </tr>\n",
       "    <tr>\n",
       "      <th>275611</th>\n",
       "      <td>999978</td>\n",
       "      <td>mobile</td>\n",
       "      <td>android</td>\n",
       "      <td>39.78</td>\n",
       "      <td>-86.15</td>\n",
       "      <td>Saturday</td>\n",
       "      <td>20</td>\n",
       "      <td>0</td>\n",
       "      <td>0</td>\n",
       "      <td>0</td>\n",
       "      <td>0</td>\n",
       "      <td>0</td>\n",
       "      <td>0</td>\n",
       "      <td>0</td>\n",
       "      <td>0</td>\n",
       "      <td>0</td>\n",
       "    </tr>\n",
       "    <tr>\n",
       "      <th>275612</th>\n",
       "      <td>999979</td>\n",
       "      <td>web</td>\n",
       "      <td>windows</td>\n",
       "      <td>31.10</td>\n",
       "      <td>-97.72</td>\n",
       "      <td>Friday</td>\n",
       "      <td>19</td>\n",
       "      <td>0</td>\n",
       "      <td>0</td>\n",
       "      <td>0</td>\n",
       "      <td>0</td>\n",
       "      <td>0</td>\n",
       "      <td>0</td>\n",
       "      <td>0</td>\n",
       "      <td>0</td>\n",
       "      <td>0</td>\n",
       "    </tr>\n",
       "    <tr>\n",
       "      <th>275613</th>\n",
       "      <td>999992</td>\n",
       "      <td>web</td>\n",
       "      <td>windows</td>\n",
       "      <td>40.77</td>\n",
       "      <td>-74.03</td>\n",
       "      <td>Saturday</td>\n",
       "      <td>19</td>\n",
       "      <td>0</td>\n",
       "      <td>0</td>\n",
       "      <td>1</td>\n",
       "      <td>0</td>\n",
       "      <td>0</td>\n",
       "      <td>0</td>\n",
       "      <td>1</td>\n",
       "      <td>0</td>\n",
       "      <td>0</td>\n",
       "    </tr>\n",
       "    <tr>\n",
       "      <th>275614</th>\n",
       "      <td>999993</td>\n",
       "      <td>web</td>\n",
       "      <td>windows</td>\n",
       "      <td>39.04</td>\n",
       "      <td>-95.69</td>\n",
       "      <td>Wednesday</td>\n",
       "      <td>11</td>\n",
       "      <td>0</td>\n",
       "      <td>0</td>\n",
       "      <td>1</td>\n",
       "      <td>0</td>\n",
       "      <td>0</td>\n",
       "      <td>0</td>\n",
       "      <td>1</td>\n",
       "      <td>0</td>\n",
       "      <td>0</td>\n",
       "    </tr>\n",
       "    <tr>\n",
       "      <th>275615</th>\n",
       "      <td>999999</td>\n",
       "      <td>mobile</td>\n",
       "      <td>iOS</td>\n",
       "      <td>38.89</td>\n",
       "      <td>-94.81</td>\n",
       "      <td>Sunday</td>\n",
       "      <td>19</td>\n",
       "      <td>0</td>\n",
       "      <td>1</td>\n",
       "      <td>0</td>\n",
       "      <td>0</td>\n",
       "      <td>0</td>\n",
       "      <td>0</td>\n",
       "      <td>0</td>\n",
       "      <td>0</td>\n",
       "      <td>1</td>\n",
       "    </tr>\n",
       "  </tbody>\n",
       "</table>\n",
       "<p>275616 rows × 16 columns</p>\n",
       "</div>"
      ],
      "text/plain": [
       "        user_id  device operative_system    lat    long    weekday  yearweek  converted  is_seo_source  is_ads_source  is_friend_referral_source  is_bing_source  is_google_source  is_facebook_source  is_other_source  is_yahoo_source\n",
       "0             3     web              mac  38.89  -94.81     Friday        16          0              1              0                          0               0                 0                   1                0                0\n",
       "1             9  mobile          android  41.68  -72.94     Friday        18          0              1              0                          0               0                 1                   0                0                0\n",
       "2            14  mobile              iOS  39.74  -75.53   Saturday        13          0              0              0                          1               0                 0                   0                0                0\n",
       "3            16  mobile          android  37.99 -121.80     Friday        21          0              0              1                          0               0                 1                   0                0                0\n",
       "4            19  mobile          android  41.08  -81.52  Wednesday        14          0              0              1                          0               0                 1                   0                0                0\n",
       "...         ...     ...              ...    ...     ...        ...       ...        ...            ...            ...                        ...             ...               ...                 ...              ...              ...\n",
       "275611   999978  mobile          android  39.78  -86.15   Saturday        20          0              0              0                          0               0                 0                   0                0                0\n",
       "275612   999979     web          windows  31.10  -97.72     Friday        19          0              0              0                          0               0                 0                   0                0                0\n",
       "275613   999992     web          windows  40.77  -74.03   Saturday        19          0              0              1                          0               0                 0                   1                0                0\n",
       "275614   999993     web          windows  39.04  -95.69  Wednesday        11          0              0              1                          0               0                 0                   1                0                0\n",
       "275615   999999  mobile              iOS  38.89  -94.81     Sunday        19          0              1              0                          0               0                 0                   0                0                1\n",
       "\n",
       "[275616 rows x 16 columns]"
      ]
     },
     "execution_count": 34,
     "metadata": {},
     "output_type": "execute_result"
    }
   ],
   "source": [
    "df"
   ]
  },
  {
   "cell_type": "code",
   "execution_count": 21,
   "metadata": {},
   "outputs": [
    {
     "data": {
      "text/plain": [
       "{'source': 'ads-bing',\n",
       " 'device': 'mobile',\n",
       " 'operative_system': 'android',\n",
       " 'weekday': 'Friday'}"
      ]
     },
     "execution_count": 21,
     "metadata": {},
     "output_type": "execute_result"
    }
   ],
   "source": [
    "# references = {}\n",
    "# for col in dtypes['category']:\n",
    "#     references[col] = df[col].cat.categories[0]"
   ]
  },
  {
   "cell_type": "code",
   "execution_count": 35,
   "metadata": {},
   "outputs": [
    {
     "data": {
      "text/plain": [
       "device\n",
       "mobile    0.588939\n",
       "web       0.411061\n",
       "Name: user_id, dtype: float64"
      ]
     },
     "execution_count": 35,
     "metadata": {},
     "output_type": "execute_result"
    }
   ],
   "source": [
    "(df.groupby('device').count()['user_id'] / len(df)).sort_values(ascending=False)"
   ]
  },
  {
   "cell_type": "code",
   "execution_count": 67,
   "metadata": {},
   "outputs": [],
   "source": [
    "def get_dummies_drop_level_and_join(df, column, level_to_drop):\n",
    "    dummies = pd.get_dummies(df[column]).drop([level_to_drop], axis=1)\n",
    "    return df.join(dummies).drop(column, axis=1)"
   ]
  },
  {
   "cell_type": "code",
   "execution_count": 68,
   "metadata": {},
   "outputs": [],
   "source": [
    "df = get_dummies_drop_level_and_join(df, 'device', 'mobile')"
   ]
  },
  {
   "cell_type": "code",
   "execution_count": 69,
   "metadata": {},
   "outputs": [
    {
     "data": {
      "text/plain": [
       "Index(['user_id', 'operative_system', 'lat', 'long', 'weekday', 'yearweek', 'converted', 'seo_source', 'ads_source', 'friend_referral_source', 'bing_source', 'google_source', 'facebook_source', 'other_source', 'yahoo_source', 'web'], dtype='object')"
      ]
     },
     "execution_count": 69,
     "metadata": {},
     "output_type": "execute_result"
    }
   ],
   "source": [
    "df.columns"
   ]
  },
  {
   "cell_type": "code",
   "execution_count": 51,
   "metadata": {},
   "outputs": [
    {
     "data": {
      "text/plain": [
       "operative_system\n",
       "android    65305\n",
       "iOS        82982\n",
       "linux       3634\n",
       "mac        21831\n",
       "other      14143\n",
       "windows    87721\n",
       "Name: user_id, dtype: int64"
      ]
     },
     "execution_count": 51,
     "metadata": {},
     "output_type": "execute_result"
    }
   ],
   "source": [
    "df.groupby('operative_system').count()[df.columns[0]]"
   ]
  },
  {
   "cell_type": "code",
   "execution_count": 36,
   "metadata": {
    "scrolled": true
   },
   "outputs": [
    {
     "data": {
      "text/plain": [
       "operative_system\n",
       "windows    0.318273\n",
       "iOS        0.301078\n",
       "android    0.236942\n",
       "mac        0.079208\n",
       "other      0.051314\n",
       "linux      0.013185\n",
       "Name: user_id, dtype: float64"
      ]
     },
     "execution_count": 36,
     "metadata": {},
     "output_type": "execute_result"
    }
   ],
   "source": [
    "(df.groupby('operative_system').count()['user_id'] / len(df)).sort_values(ascending=False)"
   ]
  },
  {
   "cell_type": "code",
   "execution_count": 70,
   "metadata": {},
   "outputs": [],
   "source": [
    "df = get_dummies_drop_level_and_join(df, 'operative_system', 'windows')"
   ]
  },
  {
   "cell_type": "code",
   "execution_count": 38,
   "metadata": {},
   "outputs": [
    {
     "data": {
      "text/plain": [
       "weekday\n",
       "Friday       0.290429\n",
       "Saturday     0.234500\n",
       "Sunday       0.176013\n",
       "Thursday     0.116782\n",
       "Tuesday      0.062057\n",
       "Monday       0.060671\n",
       "Wednesday    0.059547\n",
       "Name: user_id, dtype: float64"
      ]
     },
     "execution_count": 38,
     "metadata": {},
     "output_type": "execute_result"
    }
   ],
   "source": [
    "(df.groupby('weekday').count()['user_id'] / len(df)).sort_values(ascending=False)"
   ]
  },
  {
   "cell_type": "code",
   "execution_count": 71,
   "metadata": {},
   "outputs": [],
   "source": [
    "df = get_dummies_drop_level_and_join(df, 'weekday', 'Friday')"
   ]
  },
  {
   "cell_type": "code",
   "execution_count": 72,
   "metadata": {},
   "outputs": [
    {
     "data": {
      "text/plain": [
       "Index(['user_id', 'lat', 'long', 'yearweek', 'converted', 'seo_source', 'ads_source', 'friend_referral_source', 'bing_source', 'google_source', 'facebook_source', 'other_source', 'yahoo_source', 'web', 'android', 'iOS', 'linux', 'mac', 'other', 'Monday', 'Saturday', 'Sunday', 'Thursday', 'Tuesday', 'Wednesday', 'intercept'], dtype='object')"
      ]
     },
     "execution_count": 72,
     "metadata": {},
     "output_type": "execute_result"
    }
   ],
   "source": [
    "df['intercept'] = 1\n",
    "df.columns"
   ]
  },
  {
   "cell_type": "code",
   "execution_count": 73,
   "metadata": {},
   "outputs": [
    {
     "data": {
      "text/plain": [
       "defaultdict(list,\n",
       "            {'int64': ['user_id',\n",
       "              'yearweek',\n",
       "              'converted',\n",
       "              'seo_source',\n",
       "              'ads_source',\n",
       "              'friend_referral_source',\n",
       "              'bing_source',\n",
       "              'google_source',\n",
       "              'facebook_source',\n",
       "              'other_source',\n",
       "              'yahoo_source',\n",
       "              'intercept'],\n",
       "             'float64': ['lat', 'long'],\n",
       "             'uint8': ['web',\n",
       "              'android',\n",
       "              'iOS',\n",
       "              'linux',\n",
       "              'mac',\n",
       "              'other',\n",
       "              'Monday',\n",
       "              'Saturday',\n",
       "              'Sunday',\n",
       "              'Thursday',\n",
       "              'Tuesday',\n",
       "              'Wednesday']})"
      ]
     },
     "execution_count": 73,
     "metadata": {},
     "output_type": "execute_result"
    }
   ],
   "source": [
    "get_types(df)"
   ]
  },
  {
   "cell_type": "code",
   "execution_count": 74,
   "metadata": {},
   "outputs": [
    {
     "name": "stdout",
     "output_type": "stream",
     "text": [
      "Optimization terminated successfully.\n",
      "         Current function value: 0.089610\n",
      "         Iterations 20\n"
     ]
    }
   ],
   "source": [
    "import statsmodels.api as sm\n",
    "target = 'converted'\n",
    "x = df.drop(target, axis=1)\n",
    "logit = sm.Logit(data[target], x)\n",
    "output = logit.fit()"
   ]
  },
  {
   "cell_type": "code",
   "execution_count": 81,
   "metadata": {},
   "outputs": [],
   "source": [
    "def statsmodels_output_table(output):\n",
    "    output_table = pd.DataFrame(dict(coefficients=output.params,\n",
    "                             SE=output.bse, z=output.tvalues,\n",
    "                             p_values=output.pvalues))\n",
    "    significant = output_table.loc[output_table['p_values'] < 0.05].sort_values(\"coefficients\", ascending=False)\n",
    "    not_significant = output_table.loc[output_table['p_values'] >= 0.05].sort_values(\"coefficients\", ascending=False)\n",
    "    return significant, not_significant\n",
    "\n",
    "\n",
    "sig, not_sig = statsmodels_output_table(output)"
   ]
  },
  {
   "cell_type": "code",
   "execution_count": 82,
   "metadata": {},
   "outputs": [
    {
     "data": {
      "text/html": [
       "<div>\n",
       "<style scoped>\n",
       "    .dataframe tbody tr th:only-of-type {\n",
       "        vertical-align: middle;\n",
       "    }\n",
       "\n",
       "    .dataframe tbody tr th {\n",
       "        vertical-align: top;\n",
       "    }\n",
       "\n",
       "    .dataframe thead th {\n",
       "        text-align: right;\n",
       "    }\n",
       "</style>\n",
       "<table border=\"1\" class=\"dataframe\">\n",
       "  <thead>\n",
       "    <tr style=\"text-align: right;\">\n",
       "      <th></th>\n",
       "      <th>coefficients</th>\n",
       "      <th>SE</th>\n",
       "      <th>z</th>\n",
       "      <th>p_values</th>\n",
       "    </tr>\n",
       "  </thead>\n",
       "  <tbody>\n",
       "    <tr>\n",
       "      <th>intercept</th>\n",
       "      <td>8.731873e+01</td>\n",
       "      <td>4.033611e+05</td>\n",
       "      <td>2.164778e-04</td>\n",
       "      <td>0.999827</td>\n",
       "    </tr>\n",
       "    <tr>\n",
       "      <th>google_source</th>\n",
       "      <td>2.890141e-01</td>\n",
       "      <td>4.721652e+05</td>\n",
       "      <td>6.121038e-07</td>\n",
       "      <td>1.000000</td>\n",
       "    </tr>\n",
       "    <tr>\n",
       "      <th>facebook_source</th>\n",
       "      <td>2.657388e-01</td>\n",
       "      <td>4.721652e+05</td>\n",
       "      <td>5.628089e-07</td>\n",
       "      <td>1.000000</td>\n",
       "    </tr>\n",
       "    <tr>\n",
       "      <th>ads_source</th>\n",
       "      <td>2.620440e-01</td>\n",
       "      <td>4.721652e+05</td>\n",
       "      <td>5.549838e-07</td>\n",
       "      <td>1.000000</td>\n",
       "    </tr>\n",
       "    <tr>\n",
       "      <th>seo_source</th>\n",
       "      <td>1.152199e-01</td>\n",
       "      <td>4.343288e+05</td>\n",
       "      <td>2.652828e-07</td>\n",
       "      <td>1.000000</td>\n",
       "    </tr>\n",
       "    <tr>\n",
       "      <th>yahoo_source</th>\n",
       "      <td>5.651968e-02</td>\n",
       "      <td>5.071868e+05</td>\n",
       "      <td>1.114376e-07</td>\n",
       "      <td>1.000000</td>\n",
       "    </tr>\n",
       "    <tr>\n",
       "      <th>Sunday</th>\n",
       "      <td>5.200830e-03</td>\n",
       "      <td>4.258393e-02</td>\n",
       "      <td>1.221313e-01</td>\n",
       "      <td>0.902795</td>\n",
       "    </tr>\n",
       "    <tr>\n",
       "      <th>user_id</th>\n",
       "      <td>2.618701e-08</td>\n",
       "      <td>4.946931e-08</td>\n",
       "      <td>5.293587e-01</td>\n",
       "      <td>0.596557</td>\n",
       "    </tr>\n",
       "    <tr>\n",
       "      <th>long</th>\n",
       "      <td>-1.136634e-04</td>\n",
       "      <td>8.010338e-04</td>\n",
       "      <td>-1.418959e-01</td>\n",
       "      <td>0.887162</td>\n",
       "    </tr>\n",
       "    <tr>\n",
       "      <th>yearweek</th>\n",
       "      <td>-7.423822e-04</td>\n",
       "      <td>3.814582e-03</td>\n",
       "      <td>-1.946169e-01</td>\n",
       "      <td>0.845693</td>\n",
       "    </tr>\n",
       "    <tr>\n",
       "      <th>lat</th>\n",
       "      <td>-5.390422e-03</td>\n",
       "      <td>2.768093e-03</td>\n",
       "      <td>-1.947342e+00</td>\n",
       "      <td>0.051494</td>\n",
       "    </tr>\n",
       "    <tr>\n",
       "      <th>Thursday</th>\n",
       "      <td>-1.898225e-02</td>\n",
       "      <td>4.914630e-02</td>\n",
       "      <td>-3.862396e-01</td>\n",
       "      <td>0.699319</td>\n",
       "    </tr>\n",
       "    <tr>\n",
       "      <th>Saturday</th>\n",
       "      <td>-3.075117e-02</td>\n",
       "      <td>3.949943e-02</td>\n",
       "      <td>-7.785218e-01</td>\n",
       "      <td>0.436261</td>\n",
       "    </tr>\n",
       "    <tr>\n",
       "      <th>other_source</th>\n",
       "      <td>-3.338470e-02</td>\n",
       "      <td>4.343288e+05</td>\n",
       "      <td>-7.686504e-08</td>\n",
       "      <td>1.000000</td>\n",
       "    </tr>\n",
       "    <tr>\n",
       "      <th>Wednesday</th>\n",
       "      <td>-4.837890e-02</td>\n",
       "      <td>6.486341e-02</td>\n",
       "      <td>-7.458581e-01</td>\n",
       "      <td>0.455753</td>\n",
       "    </tr>\n",
       "    <tr>\n",
       "      <th>Monday</th>\n",
       "      <td>-4.985884e-02</td>\n",
       "      <td>6.431298e-02</td>\n",
       "      <td>-7.752530e-01</td>\n",
       "      <td>0.438190</td>\n",
       "    </tr>\n",
       "    <tr>\n",
       "      <th>bing_source</th>\n",
       "      <td>-2.006291e-01</td>\n",
       "      <td>4.721652e+05</td>\n",
       "      <td>-4.249129e-07</td>\n",
       "      <td>1.000000</td>\n",
       "    </tr>\n",
       "    <tr>\n",
       "      <th>iOS</th>\n",
       "      <td>-9.130262e+01</td>\n",
       "      <td>4.033611e+05</td>\n",
       "      <td>-2.263546e-04</td>\n",
       "      <td>0.999819</td>\n",
       "    </tr>\n",
       "    <tr>\n",
       "      <th>web</th>\n",
       "      <td>-9.159017e+01</td>\n",
       "      <td>4.033611e+05</td>\n",
       "      <td>-2.270674e-04</td>\n",
       "      <td>0.999819</td>\n",
       "    </tr>\n",
       "    <tr>\n",
       "      <th>android</th>\n",
       "      <td>-9.171079e+01</td>\n",
       "      <td>4.033611e+05</td>\n",
       "      <td>-2.273665e-04</td>\n",
       "      <td>0.999819</td>\n",
       "    </tr>\n",
       "    <tr>\n",
       "      <th>other</th>\n",
       "      <td>-9.188289e+01</td>\n",
       "      <td>4.033611e+05</td>\n",
       "      <td>-2.277932e-04</td>\n",
       "      <td>0.999818</td>\n",
       "    </tr>\n",
       "  </tbody>\n",
       "</table>\n",
       "</div>"
      ],
      "text/plain": [
       "                 coefficients            SE             z  p_values\n",
       "intercept        8.731873e+01  4.033611e+05  2.164778e-04  0.999827\n",
       "google_source    2.890141e-01  4.721652e+05  6.121038e-07  1.000000\n",
       "facebook_source  2.657388e-01  4.721652e+05  5.628089e-07  1.000000\n",
       "ads_source       2.620440e-01  4.721652e+05  5.549838e-07  1.000000\n",
       "seo_source       1.152199e-01  4.343288e+05  2.652828e-07  1.000000\n",
       "yahoo_source     5.651968e-02  5.071868e+05  1.114376e-07  1.000000\n",
       "Sunday           5.200830e-03  4.258393e-02  1.221313e-01  0.902795\n",
       "user_id          2.618701e-08  4.946931e-08  5.293587e-01  0.596557\n",
       "long            -1.136634e-04  8.010338e-04 -1.418959e-01  0.887162\n",
       "yearweek        -7.423822e-04  3.814582e-03 -1.946169e-01  0.845693\n",
       "lat             -5.390422e-03  2.768093e-03 -1.947342e+00  0.051494\n",
       "Thursday        -1.898225e-02  4.914630e-02 -3.862396e-01  0.699319\n",
       "Saturday        -3.075117e-02  3.949943e-02 -7.785218e-01  0.436261\n",
       "other_source    -3.338470e-02  4.343288e+05 -7.686504e-08  1.000000\n",
       "Wednesday       -4.837890e-02  6.486341e-02 -7.458581e-01  0.455753\n",
       "Monday          -4.985884e-02  6.431298e-02 -7.752530e-01  0.438190\n",
       "bing_source     -2.006291e-01  4.721652e+05 -4.249129e-07  1.000000\n",
       "iOS             -9.130262e+01  4.033611e+05 -2.263546e-04  0.999819\n",
       "web             -9.159017e+01  4.033611e+05 -2.270674e-04  0.999819\n",
       "android         -9.171079e+01  4.033611e+05 -2.273665e-04  0.999819\n",
       "other           -9.188289e+01  4.033611e+05 -2.277932e-04  0.999818"
      ]
     },
     "execution_count": 82,
     "metadata": {},
     "output_type": "execute_result"
    }
   ],
   "source": [
    "not_sig"
   ]
  },
  {
   "cell_type": "code",
   "execution_count": 83,
   "metadata": {},
   "outputs": [
    {
     "data": {
      "text/html": [
       "<div>\n",
       "<style scoped>\n",
       "    .dataframe tbody tr th:only-of-type {\n",
       "        vertical-align: middle;\n",
       "    }\n",
       "\n",
       "    .dataframe tbody tr th {\n",
       "        vertical-align: top;\n",
       "    }\n",
       "\n",
       "    .dataframe thead th {\n",
       "        text-align: right;\n",
       "    }\n",
       "</style>\n",
       "<table border=\"1\" class=\"dataframe\">\n",
       "  <thead>\n",
       "    <tr style=\"text-align: right;\">\n",
       "      <th></th>\n",
       "      <th>coefficients</th>\n",
       "      <th>SE</th>\n",
       "      <th>z</th>\n",
       "      <th>p_values</th>\n",
       "    </tr>\n",
       "  </thead>\n",
       "  <tbody>\n",
       "    <tr>\n",
       "      <th>friend_referral_source</th>\n",
       "      <td>1.161799</td>\n",
       "      <td>0.055770</td>\n",
       "      <td>20.832016</td>\n",
       "      <td>2.219225e-96</td>\n",
       "    </tr>\n",
       "    <tr>\n",
       "      <th>mac</th>\n",
       "      <td>0.375495</td>\n",
       "      <td>0.051292</td>\n",
       "      <td>7.320678</td>\n",
       "      <td>2.467215e-13</td>\n",
       "    </tr>\n",
       "    <tr>\n",
       "      <th>Tuesday</th>\n",
       "      <td>-0.144396</td>\n",
       "      <td>0.066174</td>\n",
       "      <td>-2.182061</td>\n",
       "      <td>2.910503e-02</td>\n",
       "    </tr>\n",
       "    <tr>\n",
       "      <th>linux</th>\n",
       "      <td>-0.727721</td>\n",
       "      <td>0.182421</td>\n",
       "      <td>-3.989236</td>\n",
       "      <td>6.628643e-05</td>\n",
       "    </tr>\n",
       "  </tbody>\n",
       "</table>\n",
       "</div>"
      ],
      "text/plain": [
       "                        coefficients        SE          z      p_values\n",
       "friend_referral_source      1.161799  0.055770  20.832016  2.219225e-96\n",
       "mac                         0.375495  0.051292   7.320678  2.467215e-13\n",
       "Tuesday                    -0.144396  0.066174  -2.182061  2.910503e-02\n",
       "linux                      -0.727721  0.182421  -3.989236  6.628643e-05"
      ]
     },
     "execution_count": 83,
     "metadata": {},
     "output_type": "execute_result"
    }
   ],
   "source": [
    "sig"
   ]
  },
  {
   "cell_type": "code",
   "execution_count": null,
   "metadata": {},
   "outputs": [],
   "source": [
    "# That's odd that there are so few significant variables for the source levels. Did I divide the dummy variables\n",
    "# for source too much? "
   ]
  },
  {
   "cell_type": "code",
   "execution_count": 229,
   "metadata": {},
   "outputs": [],
   "source": [
    "df = pd.read_csv('https://drive.google.com/uc?export=download&id=1H_-mi6NzeZt1PhcanHofcf3H6UiItmxO')"
   ]
  },
  {
   "cell_type": "code",
   "execution_count": 202,
   "metadata": {},
   "outputs": [],
   "source": [
    "def positive_pct_per_level(df, column, target):\n",
    "    \"\"\"\n",
    "    Return count and % of positive class at all levels of feature.\n",
    "    :param df:\n",
    "    :param column:\n",
    "    :return:\n",
    "    \"\"\"\n",
    "    g = df[[column, target]].groupby(column).agg(['sum', 'count']).reset_index()\n",
    "    target_pct = f\"{target}_pct\"\n",
    "    g[target_pct] = g[target]['sum'] / g['converted']['count']\n",
    "    g['frequency_pct'] = g['converted']['count'] / len(df)\n",
    "    return g.sort_values(by=target_pct, ascending=False)"
   ]
  },
  {
   "cell_type": "code",
   "execution_count": 213,
   "metadata": {},
   "outputs": [
    {
     "data": {
      "text/plain": [
       "<matplotlib.axes._subplots.AxesSubplot at 0x7fc7e07b1748>"
      ]
     },
     "execution_count": 213,
     "metadata": {},
     "output_type": "execute_result"
    },
    {
     "data": {
      "image/png": "[encoded data removed]",
      "text/plain": [
       "<Figure size 1080x360 with 1 Axes>"
      ]
     },
     "metadata": {
      "needs_background": "light"
     },
     "output_type": "display_data"
    },
    {
     "data": {
      "image/png": "[encoded data removed]",
      "text/plain": [
       "<Figure size 1080x360 with 1 Axes>"
      ]
     },
     "metadata": {
      "needs_background": "light"
     },
     "output_type": "display_data"
    }
   ],
   "source": [
    "source = positive_pct_per_level(df, 'source', 'converted')\n",
    "source.plot(x='source', y='converted_pct', kind='bar', figsize=(15, 5))\n",
    "source.plot(x='source', y='frequency_pct', kind='bar', figsize=(15, 5))"
   ]
  },
  {
   "cell_type": "code",
   "execution_count": 214,
   "metadata": {},
   "outputs": [
    {
     "data": {
      "text/plain": [
       "defaultdict(list,\n",
       "            {'int64': ['user_id', 'yearweek', 'converted'],\n",
       "             'category': ['source', 'device', 'operative_system', 'weekday'],\n",
       "             'float64': ['lat', 'long']})"
      ]
     },
     "execution_count": 214,
     "metadata": {},
     "output_type": "execute_result"
    }
   ],
   "source": [
    "dtypes"
   ]
  },
  {
   "cell_type": "code",
   "execution_count": 215,
   "metadata": {},
   "outputs": [
    {
     "data": {
      "text/plain": [
       "<matplotlib.axes._subplots.AxesSubplot at 0x7fc7e06a97f0>"
      ]
     },
     "execution_count": 215,
     "metadata": {},
     "output_type": "execute_result"
    },
    {
     "data": {
      "image/png": "[encoded data removed]",
      "text/plain": [
       "<Figure size 1080x360 with 1 Axes>"
      ]
     },
     "metadata": {
      "needs_background": "light"
     },
     "output_type": "display_data"
    },
    {
     "data": {
      "image/png": "[encoded data removed]",
      "text/plain": [
       "<Figure size 1080x360 with 1 Axes>"
      ]
     },
     "metadata": {
      "needs_background": "light"
     },
     "output_type": "display_data"
    }
   ],
   "source": [
    "col = 'device'\n",
    "stats = positive_pct_per_level(df, col, 'converted')\n",
    "stats.plot(x=col, y='converted_pct', kind='bar', figsize=(15, 5))\n",
    "stats.plot(x=col, y='frequency_pct', kind='bar', figsize=(15, 5))"
   ]
  },
  {
   "cell_type": "code",
   "execution_count": 216,
   "metadata": {},
   "outputs": [
    {
     "data": {
      "text/plain": [
       "<matplotlib.axes._subplots.AxesSubplot at 0x7fc7e06608d0>"
      ]
     },
     "execution_count": 216,
     "metadata": {},
     "output_type": "execute_result"
    },
    {
     "data": {
      "image/png": "[encoded data removed]",
      "text/plain": [
       "<Figure size 1080x360 with 1 Axes>"
      ]
     },
     "metadata": {
      "needs_background": "light"
     },
     "output_type": "display_data"
    },
    {
     "data": {
      "image/png": "[encoded data removed]",
      "text/plain": [
       "<Figure size 1080x360 with 1 Axes>"
      ]
     },
     "metadata": {
      "needs_background": "light"
     },
     "output_type": "display_data"
    }
   ],
   "source": [
    "col = 'operative_system'\n",
    "stats = positive_pct_per_level(df, col, 'converted')\n",
    "stats.plot(x=col, y='converted_pct', kind='bar', figsize=(15, 5))\n",
    "stats.plot(x=col, y='frequency_pct', kind='bar', figsize=(15, 5))"
   ]
  },
  {
   "cell_type": "code",
   "execution_count": 217,
   "metadata": {},
   "outputs": [
    {
     "data": {
      "text/plain": [
       "<matplotlib.axes._subplots.AxesSubplot at 0x7fc7e05f5da0>"
      ]
     },
     "execution_count": 217,
     "metadata": {},
     "output_type": "execute_result"
    },
    {
     "data": {
      "image/png": "[encoded data removed]",
      "text/plain": [
       "<Figure size 1080x360 with 1 Axes>"
      ]
     },
     "metadata": {
      "needs_background": "light"
     },
     "output_type": "display_data"
    },
    {
     "data": {
      "image/png": "[encoded data removed]",
      "text/plain": [
       "<Figure size 1080x360 with 1 Axes>"
      ]
     },
     "metadata": {
      "needs_background": "light"
     },
     "output_type": "display_data"
    }
   ],
   "source": [
    "col = 'weekday'\n",
    "stats = positive_pct_per_level(df, col, 'converted')\n",
    "stats.plot(x=col, y='converted_pct', kind='bar', figsize=(15, 5))\n",
    "stats.plot(x=col, y='frequency_pct', kind='bar', figsize=(15, 5))"
   ]
  },
  {
   "cell_type": "code",
   "execution_count": 87,
   "metadata": {},
   "outputs": [
    {
     "data": {
      "text/plain": [
       "source\n",
       "direct_traffic     52594\n",
       "ads-google         51576\n",
       "ads_facebook       46365\n",
       "ads_other          26084\n",
       "seo-google         20157\n",
       "ads-bing           19887\n",
       "seo_facebook       18473\n",
       "friend_referral    18011\n",
       "seo-other           8058\n",
       "ads-yahoo           6576\n",
       "seo-yahoo           5961\n",
       "seo-bing            1874\n",
       "Name: user_id, dtype: int64"
      ]
     },
     "execution_count": 87,
     "metadata": {},
     "output_type": "execute_result"
    }
   ],
   "source": [
    "def get_categorical_counts(df, column):\n",
    "    return df.groupby(column).count()[df.columns[0]].sort_values(ascending=False)\n",
    "\n",
    "get_categorical_counts(df, 'source')"
   ]
  },
  {
   "cell_type": "code",
   "execution_count": 230,
   "metadata": {},
   "outputs": [],
   "source": [
    "df = get_dummies_drop_level_and_join(df, 'source', 'direct_traffic')\n",
    "df = get_dummies_drop_level_and_join(df, 'device', 'mobile')\n",
    "df = get_dummies_drop_level_and_join(df, 'weekday', 'Friday')\n",
    "df = get_dummies_drop_level_and_join(df, 'operative_system', 'windows')"
   ]
  },
  {
   "cell_type": "code",
   "execution_count": 89,
   "metadata": {},
   "outputs": [
    {
     "data": {
      "text/plain": [
       "Index(['user_id', 'lat', 'long', 'yearweek', 'converted', 'ads-bing', 'ads-google', 'ads-yahoo', 'ads_facebook', 'ads_other', 'friend_referral', 'seo-bing', 'seo-google', 'seo-other', 'seo-yahoo', 'seo_facebook', 'web', 'Monday', 'Saturday', 'Sunday', 'Thursday', 'Tuesday', 'Wednesday', 'android', 'iOS', 'linux', 'mac', 'other'], dtype='object')"
      ]
     },
     "execution_count": 89,
     "metadata": {},
     "output_type": "execute_result"
    }
   ],
   "source": [
    "df.columns"
   ]
  },
  {
   "cell_type": "code",
   "execution_count": 224,
   "metadata": {},
   "outputs": [
    {
     "data": {
      "text/html": [
       "<div>\n",
       "<style scoped>\n",
       "    .dataframe tbody tr th:only-of-type {\n",
       "        vertical-align: middle;\n",
       "    }\n",
       "\n",
       "    .dataframe tbody tr th {\n",
       "        vertical-align: top;\n",
       "    }\n",
       "\n",
       "    .dataframe thead th {\n",
       "        text-align: right;\n",
       "    }\n",
       "</style>\n",
       "<table border=\"1\" class=\"dataframe\">\n",
       "  <thead>\n",
       "    <tr style=\"text-align: right;\">\n",
       "      <th></th>\n",
       "      <th>user_id</th>\n",
       "      <th>lat</th>\n",
       "      <th>long</th>\n",
       "      <th>yearweek</th>\n",
       "      <th>ads-bing</th>\n",
       "      <th>ads-google</th>\n",
       "      <th>ads-yahoo</th>\n",
       "      <th>ads_facebook</th>\n",
       "      <th>ads_other</th>\n",
       "      <th>friend_referral</th>\n",
       "      <th>seo-bing</th>\n",
       "      <th>seo-google</th>\n",
       "      <th>seo-other</th>\n",
       "      <th>seo-yahoo</th>\n",
       "      <th>seo_facebook</th>\n",
       "      <th>web</th>\n",
       "      <th>Monday</th>\n",
       "      <th>Saturday</th>\n",
       "      <th>Sunday</th>\n",
       "      <th>Thursday</th>\n",
       "      <th>Tuesday</th>\n",
       "      <th>Wednesday</th>\n",
       "      <th>android</th>\n",
       "      <th>iOS</th>\n",
       "      <th>linux</th>\n",
       "      <th>mac</th>\n",
       "      <th>other</th>\n",
       "      <th>intercept</th>\n",
       "    </tr>\n",
       "  </thead>\n",
       "  <tbody>\n",
       "    <tr>\n",
       "      <th>0</th>\n",
       "      <td>3</td>\n",
       "      <td>38.89</td>\n",
       "      <td>-94.81</td>\n",
       "      <td>16</td>\n",
       "      <td>0</td>\n",
       "      <td>0</td>\n",
       "      <td>0</td>\n",
       "      <td>0</td>\n",
       "      <td>0</td>\n",
       "      <td>0</td>\n",
       "      <td>0</td>\n",
       "      <td>0</td>\n",
       "      <td>0</td>\n",
       "      <td>0</td>\n",
       "      <td>1</td>\n",
       "      <td>1</td>\n",
       "      <td>0</td>\n",
       "      <td>0</td>\n",
       "      <td>0</td>\n",
       "      <td>0</td>\n",
       "      <td>0</td>\n",
       "      <td>0</td>\n",
       "      <td>0</td>\n",
       "      <td>0</td>\n",
       "      <td>0</td>\n",
       "      <td>1</td>\n",
       "      <td>0</td>\n",
       "      <td>1</td>\n",
       "    </tr>\n",
       "    <tr>\n",
       "      <th>1</th>\n",
       "      <td>9</td>\n",
       "      <td>41.68</td>\n",
       "      <td>-72.94</td>\n",
       "      <td>18</td>\n",
       "      <td>0</td>\n",
       "      <td>0</td>\n",
       "      <td>0</td>\n",
       "      <td>0</td>\n",
       "      <td>0</td>\n",
       "      <td>0</td>\n",
       "      <td>0</td>\n",
       "      <td>1</td>\n",
       "      <td>0</td>\n",
       "      <td>0</td>\n",
       "      <td>0</td>\n",
       "      <td>0</td>\n",
       "      <td>0</td>\n",
       "      <td>0</td>\n",
       "      <td>0</td>\n",
       "      <td>0</td>\n",
       "      <td>0</td>\n",
       "      <td>0</td>\n",
       "      <td>1</td>\n",
       "      <td>0</td>\n",
       "      <td>0</td>\n",
       "      <td>0</td>\n",
       "      <td>0</td>\n",
       "      <td>1</td>\n",
       "    </tr>\n",
       "    <tr>\n",
       "      <th>2</th>\n",
       "      <td>14</td>\n",
       "      <td>39.74</td>\n",
       "      <td>-75.53</td>\n",
       "      <td>13</td>\n",
       "      <td>0</td>\n",
       "      <td>0</td>\n",
       "      <td>0</td>\n",
       "      <td>0</td>\n",
       "      <td>0</td>\n",
       "      <td>1</td>\n",
       "      <td>0</td>\n",
       "      <td>0</td>\n",
       "      <td>0</td>\n",
       "      <td>0</td>\n",
       "      <td>0</td>\n",
       "      <td>0</td>\n",
       "      <td>0</td>\n",
       "      <td>1</td>\n",
       "      <td>0</td>\n",
       "      <td>0</td>\n",
       "      <td>0</td>\n",
       "      <td>0</td>\n",
       "      <td>0</td>\n",
       "      <td>1</td>\n",
       "      <td>0</td>\n",
       "      <td>0</td>\n",
       "      <td>0</td>\n",
       "      <td>1</td>\n",
       "    </tr>\n",
       "    <tr>\n",
       "      <th>3</th>\n",
       "      <td>16</td>\n",
       "      <td>37.99</td>\n",
       "      <td>-121.80</td>\n",
       "      <td>21</td>\n",
       "      <td>0</td>\n",
       "      <td>1</td>\n",
       "      <td>0</td>\n",
       "      <td>0</td>\n",
       "      <td>0</td>\n",
       "      <td>0</td>\n",
       "      <td>0</td>\n",
       "      <td>0</td>\n",
       "      <td>0</td>\n",
       "      <td>0</td>\n",
       "      <td>0</td>\n",
       "      <td>0</td>\n",
       "      <td>0</td>\n",
       "      <td>0</td>\n",
       "      <td>0</td>\n",
       "      <td>0</td>\n",
       "      <td>0</td>\n",
       "      <td>0</td>\n",
       "      <td>1</td>\n",
       "      <td>0</td>\n",
       "      <td>0</td>\n",
       "      <td>0</td>\n",
       "      <td>0</td>\n",
       "      <td>1</td>\n",
       "    </tr>\n",
       "    <tr>\n",
       "      <th>4</th>\n",
       "      <td>19</td>\n",
       "      <td>41.08</td>\n",
       "      <td>-81.52</td>\n",
       "      <td>14</td>\n",
       "      <td>0</td>\n",
       "      <td>1</td>\n",
       "      <td>0</td>\n",
       "      <td>0</td>\n",
       "      <td>0</td>\n",
       "      <td>0</td>\n",
       "      <td>0</td>\n",
       "      <td>0</td>\n",
       "      <td>0</td>\n",
       "      <td>0</td>\n",
       "      <td>0</td>\n",
       "      <td>0</td>\n",
       "      <td>0</td>\n",
       "      <td>0</td>\n",
       "      <td>0</td>\n",
       "      <td>0</td>\n",
       "      <td>0</td>\n",
       "      <td>1</td>\n",
       "      <td>1</td>\n",
       "      <td>0</td>\n",
       "      <td>0</td>\n",
       "      <td>0</td>\n",
       "      <td>0</td>\n",
       "      <td>1</td>\n",
       "    </tr>\n",
       "    <tr>\n",
       "      <th>...</th>\n",
       "      <td>...</td>\n",
       "      <td>...</td>\n",
       "      <td>...</td>\n",
       "      <td>...</td>\n",
       "      <td>...</td>\n",
       "      <td>...</td>\n",
       "      <td>...</td>\n",
       "      <td>...</td>\n",
       "      <td>...</td>\n",
       "      <td>...</td>\n",
       "      <td>...</td>\n",
       "      <td>...</td>\n",
       "      <td>...</td>\n",
       "      <td>...</td>\n",
       "      <td>...</td>\n",
       "      <td>...</td>\n",
       "      <td>...</td>\n",
       "      <td>...</td>\n",
       "      <td>...</td>\n",
       "      <td>...</td>\n",
       "      <td>...</td>\n",
       "      <td>...</td>\n",
       "      <td>...</td>\n",
       "      <td>...</td>\n",
       "      <td>...</td>\n",
       "      <td>...</td>\n",
       "      <td>...</td>\n",
       "      <td>...</td>\n",
       "    </tr>\n",
       "    <tr>\n",
       "      <th>275611</th>\n",
       "      <td>999978</td>\n",
       "      <td>39.78</td>\n",
       "      <td>-86.15</td>\n",
       "      <td>20</td>\n",
       "      <td>0</td>\n",
       "      <td>0</td>\n",
       "      <td>0</td>\n",
       "      <td>0</td>\n",
       "      <td>0</td>\n",
       "      <td>0</td>\n",
       "      <td>0</td>\n",
       "      <td>0</td>\n",
       "      <td>0</td>\n",
       "      <td>0</td>\n",
       "      <td>0</td>\n",
       "      <td>0</td>\n",
       "      <td>0</td>\n",
       "      <td>1</td>\n",
       "      <td>0</td>\n",
       "      <td>0</td>\n",
       "      <td>0</td>\n",
       "      <td>0</td>\n",
       "      <td>1</td>\n",
       "      <td>0</td>\n",
       "      <td>0</td>\n",
       "      <td>0</td>\n",
       "      <td>0</td>\n",
       "      <td>1</td>\n",
       "    </tr>\n",
       "    <tr>\n",
       "      <th>275612</th>\n",
       "      <td>999979</td>\n",
       "      <td>31.10</td>\n",
       "      <td>-97.72</td>\n",
       "      <td>19</td>\n",
       "      <td>0</td>\n",
       "      <td>0</td>\n",
       "      <td>0</td>\n",
       "      <td>0</td>\n",
       "      <td>0</td>\n",
       "      <td>0</td>\n",
       "      <td>0</td>\n",
       "      <td>0</td>\n",
       "      <td>0</td>\n",
       "      <td>0</td>\n",
       "      <td>0</td>\n",
       "      <td>1</td>\n",
       "      <td>0</td>\n",
       "      <td>0</td>\n",
       "      <td>0</td>\n",
       "      <td>0</td>\n",
       "      <td>0</td>\n",
       "      <td>0</td>\n",
       "      <td>0</td>\n",
       "      <td>0</td>\n",
       "      <td>0</td>\n",
       "      <td>0</td>\n",
       "      <td>0</td>\n",
       "      <td>1</td>\n",
       "    </tr>\n",
       "    <tr>\n",
       "      <th>275613</th>\n",
       "      <td>999992</td>\n",
       "      <td>40.77</td>\n",
       "      <td>-74.03</td>\n",
       "      <td>19</td>\n",
       "      <td>0</td>\n",
       "      <td>0</td>\n",
       "      <td>0</td>\n",
       "      <td>1</td>\n",
       "      <td>0</td>\n",
       "      <td>0</td>\n",
       "      <td>0</td>\n",
       "      <td>0</td>\n",
       "      <td>0</td>\n",
       "      <td>0</td>\n",
       "      <td>0</td>\n",
       "      <td>1</td>\n",
       "      <td>0</td>\n",
       "      <td>1</td>\n",
       "      <td>0</td>\n",
       "      <td>0</td>\n",
       "      <td>0</td>\n",
       "      <td>0</td>\n",
       "      <td>0</td>\n",
       "      <td>0</td>\n",
       "      <td>0</td>\n",
       "      <td>0</td>\n",
       "      <td>0</td>\n",
       "      <td>1</td>\n",
       "    </tr>\n",
       "    <tr>\n",
       "      <th>275614</th>\n",
       "      <td>999993</td>\n",
       "      <td>39.04</td>\n",
       "      <td>-95.69</td>\n",
       "      <td>11</td>\n",
       "      <td>0</td>\n",
       "      <td>0</td>\n",
       "      <td>0</td>\n",
       "      <td>1</td>\n",
       "      <td>0</td>\n",
       "      <td>0</td>\n",
       "      <td>0</td>\n",
       "      <td>0</td>\n",
       "      <td>0</td>\n",
       "      <td>0</td>\n",
       "      <td>0</td>\n",
       "      <td>1</td>\n",
       "      <td>0</td>\n",
       "      <td>0</td>\n",
       "      <td>0</td>\n",
       "      <td>0</td>\n",
       "      <td>0</td>\n",
       "      <td>1</td>\n",
       "      <td>0</td>\n",
       "      <td>0</td>\n",
       "      <td>0</td>\n",
       "      <td>0</td>\n",
       "      <td>0</td>\n",
       "      <td>1</td>\n",
       "    </tr>\n",
       "    <tr>\n",
       "      <th>275615</th>\n",
       "      <td>999999</td>\n",
       "      <td>38.89</td>\n",
       "      <td>-94.81</td>\n",
       "      <td>19</td>\n",
       "      <td>0</td>\n",
       "      <td>0</td>\n",
       "      <td>0</td>\n",
       "      <td>0</td>\n",
       "      <td>0</td>\n",
       "      <td>0</td>\n",
       "      <td>0</td>\n",
       "      <td>0</td>\n",
       "      <td>0</td>\n",
       "      <td>1</td>\n",
       "      <td>0</td>\n",
       "      <td>0</td>\n",
       "      <td>0</td>\n",
       "      <td>0</td>\n",
       "      <td>1</td>\n",
       "      <td>0</td>\n",
       "      <td>0</td>\n",
       "      <td>0</td>\n",
       "      <td>0</td>\n",
       "      <td>1</td>\n",
       "      <td>0</td>\n",
       "      <td>0</td>\n",
       "      <td>0</td>\n",
       "      <td>1</td>\n",
       "    </tr>\n",
       "  </tbody>\n",
       "</table>\n",
       "<p>275616 rows × 28 columns</p>\n",
       "</div>"
      ],
      "text/plain": [
       "        user_id    lat    long  yearweek  ads-bing  ads-google  ads-yahoo  ads_facebook  ads_other  friend_referral  seo-bing  seo-google  seo-other  seo-yahoo  seo_facebook  web  Monday  Saturday  Sunday  Thursday  Tuesday  Wednesday  android  iOS  linux  mac  other  intercept\n",
       "0             3  38.89  -94.81        16         0           0          0             0          0                0         0           0          0          0             1    1       0         0       0         0        0          0        0    0      0    1      0          1\n",
       "1             9  41.68  -72.94        18         0           0          0             0          0                0         0           1          0          0             0    0       0         0       0         0        0          0        1    0      0    0      0          1\n",
       "2            14  39.74  -75.53        13         0           0          0             0          0                1         0           0          0          0             0    0       0         1       0         0        0          0        0    1      0    0      0          1\n",
       "3            16  37.99 -121.80        21         0           1          0             0          0                0         0           0          0          0             0    0       0         0       0         0        0          0        1    0      0    0      0          1\n",
       "4            19  41.08  -81.52        14         0           1          0             0          0                0         0           0          0          0             0    0       0         0       0         0        0          1        1    0      0    0      0          1\n",
       "...         ...    ...     ...       ...       ...         ...        ...           ...        ...              ...       ...         ...        ...        ...           ...  ...     ...       ...     ...       ...      ...        ...      ...  ...    ...  ...    ...        ...\n",
       "275611   999978  39.78  -86.15        20         0           0          0             0          0                0         0           0          0          0             0    0       0         1       0         0        0          0        1    0      0    0      0          1\n",
       "275612   999979  31.10  -97.72        19         0           0          0             0          0                0         0           0          0          0             0    1       0         0       0         0        0          0        0    0      0    0      0          1\n",
       "275613   999992  40.77  -74.03        19         0           0          0             1          0                0         0           0          0          0             0    1       0         1       0         0        0          0        0    0      0    0      0          1\n",
       "275614   999993  39.04  -95.69        11         0           0          0             1          0                0         0           0          0          0             0    1       0         0       0         0        0          1        0    0      0    0      0          1\n",
       "275615   999999  38.89  -94.81        19         0           0          0             0          0                0         0           0          0          1             0    0       0         0       1         0        0          0        0    1      0    0      0          1\n",
       "\n",
       "[275616 rows x 28 columns]"
      ]
     },
     "execution_count": 224,
     "metadata": {},
     "output_type": "execute_result"
    }
   ],
   "source": [
    "x"
   ]
  },
  {
   "cell_type": "code",
   "execution_count": 234,
   "metadata": {},
   "outputs": [
    {
     "name": "stdout",
     "output_type": "stream",
     "text": [
      "Index(['user_id', 'lat', 'long', 'yearweek', 'ads-bing', 'ads-google', 'ads-yahoo', 'ads_facebook', 'ads_other', 'friend_referral', 'seo-bing', 'seo-google', 'seo-other', 'seo-yahoo', 'seo_facebook', 'web', 'Monday', 'Saturday', 'Sunday', 'Thursday', 'Tuesday', 'Wednesday', 'android', 'iOS', 'linux', 'mac', 'other', 'intercept'], dtype='object')\n",
      "Warning: Maximum number of iterations has been exceeded.\n",
      "         Current function value: inf\n",
      "         Iterations: 35\n"
     ]
    },
    {
     "ename": "LinAlgError",
     "evalue": "Singular matrix",
     "output_type": "error",
     "traceback": [
      "\u001b[0;31m---------------------------------------------------------------------------\u001b[0m",
      "\u001b[0;31mLinAlgError\u001b[0m                               Traceback (most recent call last)",
      "\u001b[0;32m<ipython-input-234-f918a9a6fea8>\u001b[0m in \u001b[0;36m<module>\u001b[0;34m\u001b[0m\n\u001b[1;32m      8\u001b[0m \u001b[0mxtrain\u001b[0m\u001b[0;34m,\u001b[0m \u001b[0mxtest\u001b[0m\u001b[0;34m,\u001b[0m \u001b[0mytrain\u001b[0m\u001b[0;34m,\u001b[0m \u001b[0mytest\u001b[0m \u001b[0;34m=\u001b[0m \u001b[0mtrain_test_split\u001b[0m\u001b[0;34m(\u001b[0m\u001b[0mx\u001b[0m\u001b[0;34m,\u001b[0m \u001b[0my\u001b[0m\u001b[0;34m,\u001b[0m \u001b[0mrandom_state\u001b[0m\u001b[0;34m=\u001b[0m\u001b[0mrandom_state\u001b[0m\u001b[0;34m,\u001b[0m \u001b[0mtest_size\u001b[0m\u001b[0;34m=\u001b[0m\u001b[0;36m.2\u001b[0m\u001b[0;34m,\u001b[0m \u001b[0mstratify\u001b[0m\u001b[0;34m=\u001b[0m\u001b[0my\u001b[0m\u001b[0;34m)\u001b[0m\u001b[0;34m\u001b[0m\u001b[0;34m\u001b[0m\u001b[0m\n\u001b[1;32m      9\u001b[0m \u001b[0mlogit\u001b[0m \u001b[0;34m=\u001b[0m \u001b[0msm\u001b[0m\u001b[0;34m.\u001b[0m\u001b[0mLogit\u001b[0m\u001b[0;34m(\u001b[0m\u001b[0mytrain\u001b[0m\u001b[0;34m.\u001b[0m\u001b[0mravel\u001b[0m\u001b[0;34m(\u001b[0m\u001b[0;34m)\u001b[0m\u001b[0;34m,\u001b[0m \u001b[0mxtrain\u001b[0m\u001b[0;34m)\u001b[0m\u001b[0;34m\u001b[0m\u001b[0;34m\u001b[0m\u001b[0m\n\u001b[0;32m---> 10\u001b[0;31m \u001b[0moutput\u001b[0m \u001b[0;34m=\u001b[0m \u001b[0mlogit\u001b[0m\u001b[0;34m.\u001b[0m\u001b[0mfit\u001b[0m\u001b[0;34m(\u001b[0m\u001b[0;34m)\u001b[0m\u001b[0;34m\u001b[0m\u001b[0;34m\u001b[0m\u001b[0m\n\u001b[0m",
      "\u001b[0;32m/opt/conda/envs/env/lib/python3.6/site-packages/statsmodels/discrete/discrete_model.py\u001b[0m in \u001b[0;36mfit\u001b[0;34m(self, start_params, method, maxiter, full_output, disp, callback, **kwargs)\u001b[0m\n\u001b[1;32m   1911\u001b[0m         bnryfit = super(Logit, self).fit(start_params=start_params,\n\u001b[1;32m   1912\u001b[0m                 \u001b[0mmethod\u001b[0m\u001b[0;34m=\u001b[0m\u001b[0mmethod\u001b[0m\u001b[0;34m,\u001b[0m \u001b[0mmaxiter\u001b[0m\u001b[0;34m=\u001b[0m\u001b[0mmaxiter\u001b[0m\u001b[0;34m,\u001b[0m \u001b[0mfull_output\u001b[0m\u001b[0;34m=\u001b[0m\u001b[0mfull_output\u001b[0m\u001b[0;34m,\u001b[0m\u001b[0;34m\u001b[0m\u001b[0;34m\u001b[0m\u001b[0m\n\u001b[0;32m-> 1913\u001b[0;31m                 disp=disp, callback=callback, **kwargs)\n\u001b[0m\u001b[1;32m   1914\u001b[0m \u001b[0;34m\u001b[0m\u001b[0m\n\u001b[1;32m   1915\u001b[0m         \u001b[0mdiscretefit\u001b[0m \u001b[0;34m=\u001b[0m \u001b[0mLogitResults\u001b[0m\u001b[0;34m(\u001b[0m\u001b[0mself\u001b[0m\u001b[0;34m,\u001b[0m \u001b[0mbnryfit\u001b[0m\u001b[0;34m)\u001b[0m\u001b[0;34m\u001b[0m\u001b[0;34m\u001b[0m\u001b[0m\n",
      "\u001b[0;32m/opt/conda/envs/env/lib/python3.6/site-packages/statsmodels/discrete/discrete_model.py\u001b[0m in \u001b[0;36mfit\u001b[0;34m(self, start_params, method, maxiter, full_output, disp, callback, **kwargs)\u001b[0m\n\u001b[1;32m    214\u001b[0m             \u001b[0mstart_params\u001b[0m\u001b[0;34m=\u001b[0m\u001b[0mstart_params\u001b[0m\u001b[0;34m,\u001b[0m\u001b[0;34m\u001b[0m\u001b[0;34m\u001b[0m\u001b[0m\n\u001b[1;32m    215\u001b[0m             \u001b[0mmethod\u001b[0m\u001b[0;34m=\u001b[0m\u001b[0mmethod\u001b[0m\u001b[0;34m,\u001b[0m \u001b[0mmaxiter\u001b[0m\u001b[0;34m=\u001b[0m\u001b[0mmaxiter\u001b[0m\u001b[0;34m,\u001b[0m \u001b[0mfull_output\u001b[0m\u001b[0;34m=\u001b[0m\u001b[0mfull_output\u001b[0m\u001b[0;34m,\u001b[0m\u001b[0;34m\u001b[0m\u001b[0;34m\u001b[0m\u001b[0m\n\u001b[0;32m--> 216\u001b[0;31m             disp=disp, callback=callback, **kwargs)\n\u001b[0m\u001b[1;32m    217\u001b[0m \u001b[0;34m\u001b[0m\u001b[0m\n\u001b[1;32m    218\u001b[0m         \u001b[0;32mreturn\u001b[0m \u001b[0mmlefit\u001b[0m  \u001b[0;31m# It is up to subclasses to wrap results\u001b[0m\u001b[0;34m\u001b[0m\u001b[0;34m\u001b[0m\u001b[0m\n",
      "\u001b[0;32m/opt/conda/envs/env/lib/python3.6/site-packages/statsmodels/base/model.py\u001b[0m in \u001b[0;36mfit\u001b[0;34m(self, start_params, method, maxiter, full_output, disp, fargs, callback, retall, skip_hessian, **kwargs)\u001b[0m\n\u001b[1;32m    531\u001b[0m             \u001b[0mHinv\u001b[0m \u001b[0;34m=\u001b[0m \u001b[0mcov_params_func\u001b[0m\u001b[0;34m(\u001b[0m\u001b[0mself\u001b[0m\u001b[0;34m,\u001b[0m \u001b[0mxopt\u001b[0m\u001b[0;34m,\u001b[0m \u001b[0mretvals\u001b[0m\u001b[0;34m)\u001b[0m\u001b[0;34m\u001b[0m\u001b[0;34m\u001b[0m\u001b[0m\n\u001b[1;32m    532\u001b[0m         \u001b[0;32melif\u001b[0m \u001b[0mmethod\u001b[0m \u001b[0;34m==\u001b[0m \u001b[0;34m'newton'\u001b[0m \u001b[0;32mand\u001b[0m \u001b[0mfull_output\u001b[0m\u001b[0;34m:\u001b[0m\u001b[0;34m\u001b[0m\u001b[0;34m\u001b[0m\u001b[0m\n\u001b[0;32m--> 533\u001b[0;31m             \u001b[0mHinv\u001b[0m \u001b[0;34m=\u001b[0m \u001b[0mnp\u001b[0m\u001b[0;34m.\u001b[0m\u001b[0mlinalg\u001b[0m\u001b[0;34m.\u001b[0m\u001b[0minv\u001b[0m\u001b[0;34m(\u001b[0m\u001b[0;34m-\u001b[0m\u001b[0mretvals\u001b[0m\u001b[0;34m[\u001b[0m\u001b[0;34m'Hessian'\u001b[0m\u001b[0;34m]\u001b[0m\u001b[0;34m)\u001b[0m \u001b[0;34m/\u001b[0m \u001b[0mnobs\u001b[0m\u001b[0;34m\u001b[0m\u001b[0;34m\u001b[0m\u001b[0m\n\u001b[0m\u001b[1;32m    534\u001b[0m         \u001b[0;32melif\u001b[0m \u001b[0;32mnot\u001b[0m \u001b[0mskip_hessian\u001b[0m\u001b[0;34m:\u001b[0m\u001b[0;34m\u001b[0m\u001b[0;34m\u001b[0m\u001b[0m\n\u001b[1;32m    535\u001b[0m             \u001b[0mH\u001b[0m \u001b[0;34m=\u001b[0m \u001b[0;34m-\u001b[0m\u001b[0;36m1\u001b[0m \u001b[0;34m*\u001b[0m \u001b[0mself\u001b[0m\u001b[0;34m.\u001b[0m\u001b[0mhessian\u001b[0m\u001b[0;34m(\u001b[0m\u001b[0mxopt\u001b[0m\u001b[0;34m)\u001b[0m\u001b[0;34m\u001b[0m\u001b[0;34m\u001b[0m\u001b[0m\n",
      "\u001b[0;32m<__array_function__ internals>\u001b[0m in \u001b[0;36minv\u001b[0;34m(*args, **kwargs)\u001b[0m\n",
      "\u001b[0;32m/opt/conda/envs/env/lib/python3.6/site-packages/numpy/linalg/linalg.py\u001b[0m in \u001b[0;36minv\u001b[0;34m(a)\u001b[0m\n\u001b[1;32m    545\u001b[0m     \u001b[0msignature\u001b[0m \u001b[0;34m=\u001b[0m \u001b[0;34m'D->D'\u001b[0m \u001b[0;32mif\u001b[0m \u001b[0misComplexType\u001b[0m\u001b[0;34m(\u001b[0m\u001b[0mt\u001b[0m\u001b[0;34m)\u001b[0m \u001b[0;32melse\u001b[0m \u001b[0;34m'd->d'\u001b[0m\u001b[0;34m\u001b[0m\u001b[0;34m\u001b[0m\u001b[0m\n\u001b[1;32m    546\u001b[0m     \u001b[0mextobj\u001b[0m \u001b[0;34m=\u001b[0m \u001b[0mget_linalg_error_extobj\u001b[0m\u001b[0;34m(\u001b[0m\u001b[0m_raise_linalgerror_singular\u001b[0m\u001b[0;34m)\u001b[0m\u001b[0;34m\u001b[0m\u001b[0;34m\u001b[0m\u001b[0m\n\u001b[0;32m--> 547\u001b[0;31m     \u001b[0mainv\u001b[0m \u001b[0;34m=\u001b[0m \u001b[0m_umath_linalg\u001b[0m\u001b[0;34m.\u001b[0m\u001b[0minv\u001b[0m\u001b[0;34m(\u001b[0m\u001b[0ma\u001b[0m\u001b[0;34m,\u001b[0m \u001b[0msignature\u001b[0m\u001b[0;34m=\u001b[0m\u001b[0msignature\u001b[0m\u001b[0;34m,\u001b[0m \u001b[0mextobj\u001b[0m\u001b[0;34m=\u001b[0m\u001b[0mextobj\u001b[0m\u001b[0;34m)\u001b[0m\u001b[0;34m\u001b[0m\u001b[0;34m\u001b[0m\u001b[0m\n\u001b[0m\u001b[1;32m    548\u001b[0m     \u001b[0;32mreturn\u001b[0m \u001b[0mwrap\u001b[0m\u001b[0;34m(\u001b[0m\u001b[0mainv\u001b[0m\u001b[0;34m.\u001b[0m\u001b[0mastype\u001b[0m\u001b[0;34m(\u001b[0m\u001b[0mresult_t\u001b[0m\u001b[0;34m,\u001b[0m \u001b[0mcopy\u001b[0m\u001b[0;34m=\u001b[0m\u001b[0;32mFalse\u001b[0m\u001b[0;34m)\u001b[0m\u001b[0;34m)\u001b[0m\u001b[0;34m\u001b[0m\u001b[0;34m\u001b[0m\u001b[0m\n\u001b[1;32m    549\u001b[0m \u001b[0;34m\u001b[0m\u001b[0m\n",
      "\u001b[0;32m/opt/conda/envs/env/lib/python3.6/site-packages/numpy/linalg/linalg.py\u001b[0m in \u001b[0;36m_raise_linalgerror_singular\u001b[0;34m(err, flag)\u001b[0m\n\u001b[1;32m     95\u001b[0m \u001b[0;34m\u001b[0m\u001b[0m\n\u001b[1;32m     96\u001b[0m \u001b[0;32mdef\u001b[0m \u001b[0m_raise_linalgerror_singular\u001b[0m\u001b[0;34m(\u001b[0m\u001b[0merr\u001b[0m\u001b[0;34m,\u001b[0m \u001b[0mflag\u001b[0m\u001b[0;34m)\u001b[0m\u001b[0;34m:\u001b[0m\u001b[0;34m\u001b[0m\u001b[0;34m\u001b[0m\u001b[0m\n\u001b[0;32m---> 97\u001b[0;31m     \u001b[0;32mraise\u001b[0m \u001b[0mLinAlgError\u001b[0m\u001b[0;34m(\u001b[0m\u001b[0;34m\"Singular matrix\"\u001b[0m\u001b[0;34m)\u001b[0m\u001b[0;34m\u001b[0m\u001b[0;34m\u001b[0m\u001b[0m\n\u001b[0m\u001b[1;32m     98\u001b[0m \u001b[0;34m\u001b[0m\u001b[0m\n\u001b[1;32m     99\u001b[0m \u001b[0;32mdef\u001b[0m \u001b[0m_raise_linalgerror_nonposdef\u001b[0m\u001b[0;34m(\u001b[0m\u001b[0merr\u001b[0m\u001b[0;34m,\u001b[0m \u001b[0mflag\u001b[0m\u001b[0;34m)\u001b[0m\u001b[0;34m:\u001b[0m\u001b[0;34m\u001b[0m\u001b[0;34m\u001b[0m\u001b[0m\n",
      "\u001b[0;31mLinAlgError\u001b[0m: Singular matrix"
     ]
    }
   ],
   "source": [
    "target = 'converted'\n",
    "# df['intercept'] = 1\n",
    "x = df.drop(target, axis=1)\n",
    "x['intercept'] = 1\n",
    "print(x.columns)\n",
    "y = df[target]\n",
    "\n",
    "xtrain, xtest, ytrain, ytest = train_test_split(x, y, random_state=random_state, test_size=.2, stratify=y)\n",
    "logit = sm.Logit(ytrain.ravel(), xtrain)\n",
    "output = logit.fit()"
   ]
  },
  {
   "cell_type": "code",
   "execution_count": null,
   "metadata": {},
   "outputs": [],
   "source": [
    "Singular matrix"
   ]
  },
  {
   "cell_type": "code",
   "execution_count": 191,
   "metadata": {},
   "outputs": [
    {
     "name": "stdout",
     "output_type": "stream",
     "text": [
      "0.018224631345814816 9.876908230985692e-06 0.0005419538010712008\n"
     ]
    },
    {
     "data": {
      "text/html": [
       "<div>\n",
       "<style scoped>\n",
       "    .dataframe tbody tr th:only-of-type {\n",
       "        vertical-align: middle;\n",
       "    }\n",
       "\n",
       "    .dataframe tbody tr th {\n",
       "        vertical-align: top;\n",
       "    }\n",
       "\n",
       "    .dataframe thead th {\n",
       "        text-align: right;\n",
       "    }\n",
       "</style>\n",
       "<table border=\"1\" class=\"dataframe\">\n",
       "  <thead>\n",
       "    <tr style=\"text-align: right;\">\n",
       "      <th></th>\n",
       "      <th>fit_time</th>\n",
       "      <th>score_time</th>\n",
       "      <th>test_r2</th>\n",
       "      <th>train_r2</th>\n",
       "      <th>test_mean_squared_error</th>\n",
       "      <th>train_mean_squared_error</th>\n",
       "      <th>mse_diff</th>\n",
       "    </tr>\n",
       "  </thead>\n",
       "  <tbody>\n",
       "    <tr>\n",
       "      <th>0</th>\n",
       "      <td>0.681251</td>\n",
       "      <td>0.005977</td>\n",
       "      <td>-0.019566</td>\n",
       "      <td>-0.019308</td>\n",
       "      <td>0.018232</td>\n",
       "      <td>0.018223</td>\n",
       "      <td>0.000009</td>\n",
       "    </tr>\n",
       "    <tr>\n",
       "      <th>1</th>\n",
       "      <td>0.684089</td>\n",
       "      <td>0.005563</td>\n",
       "      <td>-0.020564</td>\n",
       "      <td>-0.019059</td>\n",
       "      <td>0.018232</td>\n",
       "      <td>0.018223</td>\n",
       "      <td>0.000009</td>\n",
       "    </tr>\n",
       "    <tr>\n",
       "      <th>2</th>\n",
       "      <td>0.674370</td>\n",
       "      <td>0.004803</td>\n",
       "      <td>-0.019566</td>\n",
       "      <td>-0.019308</td>\n",
       "      <td>0.018232</td>\n",
       "      <td>0.018223</td>\n",
       "      <td>0.000009</td>\n",
       "    </tr>\n",
       "    <tr>\n",
       "      <th>3</th>\n",
       "      <td>0.643502</td>\n",
       "      <td>0.004716</td>\n",
       "      <td>-0.018552</td>\n",
       "      <td>-0.019562</td>\n",
       "      <td>0.018214</td>\n",
       "      <td>0.018227</td>\n",
       "      <td>-0.000014</td>\n",
       "    </tr>\n",
       "    <tr>\n",
       "      <th>4</th>\n",
       "      <td>0.594272</td>\n",
       "      <td>0.005130</td>\n",
       "      <td>-0.018552</td>\n",
       "      <td>-0.019562</td>\n",
       "      <td>0.018214</td>\n",
       "      <td>0.018227</td>\n",
       "      <td>-0.000014</td>\n",
       "    </tr>\n",
       "  </tbody>\n",
       "</table>\n",
       "</div>"
      ],
      "text/plain": [
       "   fit_time  score_time   test_r2  train_r2  test_mean_squared_error  train_mean_squared_error  mse_diff\n",
       "0  0.681251    0.005977 -0.019566 -0.019308                 0.018232                  0.018223  0.000009\n",
       "1  0.684089    0.005563 -0.020564 -0.019059                 0.018232                  0.018223  0.000009\n",
       "2  0.674370    0.004803 -0.019566 -0.019308                 0.018232                  0.018223  0.000009\n",
       "3  0.643502    0.004716 -0.018552 -0.019562                 0.018214                  0.018227 -0.000014\n",
       "4  0.594272    0.005130 -0.018552 -0.019562                 0.018214                  0.018227 -0.000014"
      ]
     },
     "execution_count": 191,
     "metadata": {},
     "output_type": "execute_result"
    }
   ],
   "source": [
    "from sklearn.linear_model import LogisticRegression\n",
    "\n",
    "# Test that LogisticRegression results are stable\n",
    "\n",
    "cv = StratifiedKFold(n_splits=5, shuffle=True, random_state=random_state)\n",
    "\n",
    "scoring = {\n",
    "    'r2': 'r2',\n",
    "    'mean_squared_error': make_scorer(mean_squared_error)\n",
    "}\n",
    "scores = cross_validate(LogisticRegression(C=1e-8), x, y, scoring=scoring, cv=cv, return_train_score=True)\n",
    "results = pd.DataFrame(scores)\n",
    "results['mse_diff'] = results['test_mean_squared_error'] - results['train_mean_squared_error']\n",
    "std = results['test_mean_squared_error'].std()\n",
    "mean = results['test_mean_squared_error'].mean()\n",
    "print(mean, std, std / mean)\n",
    "results"
   ]
  },
  {
   "cell_type": "code",
   "execution_count": 140,
   "metadata": {},
   "outputs": [],
   "source": [
    "sig, not_sig = statsmodels_output_table(output)"
   ]
  },
  {
   "cell_type": "code",
   "execution_count": 141,
   "metadata": {},
   "outputs": [
    {
     "data": {
      "text/html": [
       "<div>\n",
       "<style scoped>\n",
       "    .dataframe tbody tr th:only-of-type {\n",
       "        vertical-align: middle;\n",
       "    }\n",
       "\n",
       "    .dataframe tbody tr th {\n",
       "        vertical-align: top;\n",
       "    }\n",
       "\n",
       "    .dataframe thead th {\n",
       "        text-align: right;\n",
       "    }\n",
       "</style>\n",
       "<table border=\"1\" class=\"dataframe\">\n",
       "  <thead>\n",
       "    <tr style=\"text-align: right;\">\n",
       "      <th></th>\n",
       "      <th>coefficients</th>\n",
       "      <th>SE</th>\n",
       "      <th>z</th>\n",
       "      <th>p_values</th>\n",
       "    </tr>\n",
       "  </thead>\n",
       "  <tbody>\n",
       "    <tr>\n",
       "      <th>ads-yahoo</th>\n",
       "      <td>1.849534e-01</td>\n",
       "      <td>1.102922e-01</td>\n",
       "      <td>1.676939</td>\n",
       "      <td>0.093554</td>\n",
       "    </tr>\n",
       "    <tr>\n",
       "      <th>Sunday</th>\n",
       "      <td>5.659854e-03</td>\n",
       "      <td>4.258681e-02</td>\n",
       "      <td>0.132902</td>\n",
       "      <td>0.894271</td>\n",
       "    </tr>\n",
       "    <tr>\n",
       "      <th>user_id</th>\n",
       "      <td>2.622364e-08</td>\n",
       "      <td>4.946945e-08</td>\n",
       "      <td>0.530098</td>\n",
       "      <td>0.596044</td>\n",
       "    </tr>\n",
       "    <tr>\n",
       "      <th>long</th>\n",
       "      <td>-1.074518e-04</td>\n",
       "      <td>8.012019e-04</td>\n",
       "      <td>-0.134113</td>\n",
       "      <td>0.893313</td>\n",
       "    </tr>\n",
       "    <tr>\n",
       "      <th>yearweek</th>\n",
       "      <td>-7.296307e-04</td>\n",
       "      <td>3.814514e-03</td>\n",
       "      <td>-0.191278</td>\n",
       "      <td>0.848308</td>\n",
       "    </tr>\n",
       "    <tr>\n",
       "      <th>lat</th>\n",
       "      <td>-5.310552e-03</td>\n",
       "      <td>2.768462e-03</td>\n",
       "      <td>-1.918232</td>\n",
       "      <td>0.055082</td>\n",
       "    </tr>\n",
       "    <tr>\n",
       "      <th>ads-bing</th>\n",
       "      <td>-1.545457e-02</td>\n",
       "      <td>7.642274e-02</td>\n",
       "      <td>-0.202225</td>\n",
       "      <td>0.839741</td>\n",
       "    </tr>\n",
       "    <tr>\n",
       "      <th>Thursday</th>\n",
       "      <td>-1.934941e-02</td>\n",
       "      <td>4.914974e-02</td>\n",
       "      <td>-0.393683</td>\n",
       "      <td>0.693815</td>\n",
       "    </tr>\n",
       "    <tr>\n",
       "      <th>Saturday</th>\n",
       "      <td>-3.006792e-02</td>\n",
       "      <td>3.950180e-02</td>\n",
       "      <td>-0.761178</td>\n",
       "      <td>0.446550</td>\n",
       "    </tr>\n",
       "    <tr>\n",
       "      <th>Wednesday</th>\n",
       "      <td>-4.748912e-02</td>\n",
       "      <td>6.486738e-02</td>\n",
       "      <td>-0.732095</td>\n",
       "      <td>0.464110</td>\n",
       "    </tr>\n",
       "    <tr>\n",
       "      <th>Monday</th>\n",
       "      <td>-5.008215e-02</td>\n",
       "      <td>6.431653e-02</td>\n",
       "      <td>-0.778682</td>\n",
       "      <td>0.436167</td>\n",
       "    </tr>\n",
       "  </tbody>\n",
       "</table>\n",
       "</div>"
      ],
      "text/plain": [
       "           coefficients            SE         z  p_values\n",
       "ads-yahoo  1.849534e-01  1.102922e-01  1.676939  0.093554\n",
       "Sunday     5.659854e-03  4.258681e-02  0.132902  0.894271\n",
       "user_id    2.622364e-08  4.946945e-08  0.530098  0.596044\n",
       "long      -1.074518e-04  8.012019e-04 -0.134113  0.893313\n",
       "yearweek  -7.296307e-04  3.814514e-03 -0.191278  0.848308\n",
       "lat       -5.310552e-03  2.768462e-03 -1.918232  0.055082\n",
       "ads-bing  -1.545457e-02  7.642274e-02 -0.202225  0.839741\n",
       "Thursday  -1.934941e-02  4.914974e-02 -0.393683  0.693815\n",
       "Saturday  -3.006792e-02  3.950180e-02 -0.761178  0.446550\n",
       "Wednesday -4.748912e-02  6.486738e-02 -0.732095  0.464110\n",
       "Monday    -5.008215e-02  6.431653e-02 -0.778682  0.436167"
      ]
     },
     "execution_count": 141,
     "metadata": {},
     "output_type": "execute_result"
    }
   ],
   "source": [
    "not_sig"
   ]
  },
  {
   "cell_type": "code",
   "execution_count": 98,
   "metadata": {},
   "outputs": [
    {
     "data": {
      "text/plain": [
       "source\n",
       "direct_traffic     0.190823\n",
       "ads-google         0.187130\n",
       "ads_facebook       0.168223\n",
       "ads_other          0.094639\n",
       "seo-google         0.073134\n",
       "ads-bing           0.072155\n",
       "seo_facebook       0.067024\n",
       "friend_referral    0.065348\n",
       "seo-other          0.029236\n",
       "ads-yahoo          0.023859\n",
       "seo-yahoo          0.021628\n",
       "seo-bing           0.006799\n",
       "Name: user_id, dtype: float64"
      ]
     },
     "execution_count": 98,
     "metadata": {},
     "output_type": "execute_result"
    }
   ],
   "source": [
    "# set direct_traffic as the reference level for source and drop it because it's the most common\n",
    "(df.groupby('source').count()['user_id'] / len(df)).sort_values(ascending=False)"
   ]
  },
  {
   "cell_type": "code",
   "execution_count": 99,
   "metadata": {},
   "outputs": [
    {
     "data": {
      "text/plain": [
       "source\n",
       "direct_traffic     52594\n",
       "ads-google         51576\n",
       "ads_facebook       46365\n",
       "ads_other          26084\n",
       "seo-google         20157\n",
       "ads-bing           19887\n",
       "seo_facebook       18473\n",
       "friend_referral    18011\n",
       "seo-other           8058\n",
       "ads-yahoo           6576\n",
       "seo-yahoo           5961\n",
       "seo-bing            1874\n",
       "Name: user_id, dtype: int64"
      ]
     },
     "execution_count": 99,
     "metadata": {},
     "output_type": "execute_result"
    }
   ],
   "source": [
    "(df.groupby('source').count()['user_id']).sort_values(ascending=False)"
   ]
  },
  {
   "cell_type": "markdown",
   "metadata": {},
   "source": [
    "Now the number of coefficients makes more sense. \n",
    "\n",
    "friend_referral is the highest positive predictor of conversion. Find ways to increase the number of friend referrals, because they pay off.\n",
    "\n",
    "Ads on google and facebook also do well. More data needed on whether the same ads are being shown on all platforms. If so, invest more into google and facebook ads and less into other ad platforms.\n",
    "\n",
    "seo-bing does is a positive predictor, but it's hard to trust seo-bing, ads-yahoo, and seo-yahoo because there are so few observations.\n",
    "\n",
    "Mac users are a low percentage of user base but have a high conversion rate. Lots of growth potential in that segment. Compared to windows, mac is more of a positive predictor. ios is a negative predictor and all other platforms are negative predictors. ios has a higher conversion rate than windows, so ios must be correlated with some other variable that negatively affects conversion rate.\n",
    "\n",
    "Day of the week for the ad doesn't seem to matter. The Tuesday effect is probably noise."
   ]
  },
  {
   "cell_type": "code",
   "execution_count": 132,
   "metadata": {},
   "outputs": [
    {
     "data": {
      "text/html": [
       "<div>\n",
       "<style scoped>\n",
       "    .dataframe tbody tr th:only-of-type {\n",
       "        vertical-align: middle;\n",
       "    }\n",
       "\n",
       "    .dataframe tbody tr th {\n",
       "        vertical-align: top;\n",
       "    }\n",
       "\n",
       "    .dataframe thead th {\n",
       "        text-align: right;\n",
       "    }\n",
       "</style>\n",
       "<table border=\"1\" class=\"dataframe\">\n",
       "  <thead>\n",
       "    <tr style=\"text-align: right;\">\n",
       "      <th></th>\n",
       "      <th>coefficients</th>\n",
       "      <th>SE</th>\n",
       "      <th>z</th>\n",
       "      <th>p_values</th>\n",
       "    </tr>\n",
       "  </thead>\n",
       "  <tbody>\n",
       "    <tr>\n",
       "      <th>ads-yahoo</th>\n",
       "      <td>1.849534e-01</td>\n",
       "      <td>1.102922e-01</td>\n",
       "      <td>1.676939</td>\n",
       "      <td>0.093554</td>\n",
       "    </tr>\n",
       "    <tr>\n",
       "      <th>Sunday</th>\n",
       "      <td>5.659854e-03</td>\n",
       "      <td>4.258681e-02</td>\n",
       "      <td>0.132902</td>\n",
       "      <td>0.894271</td>\n",
       "    </tr>\n",
       "    <tr>\n",
       "      <th>user_id</th>\n",
       "      <td>2.622364e-08</td>\n",
       "      <td>4.946945e-08</td>\n",
       "      <td>0.530098</td>\n",
       "      <td>0.596044</td>\n",
       "    </tr>\n",
       "    <tr>\n",
       "      <th>long</th>\n",
       "      <td>-1.074518e-04</td>\n",
       "      <td>8.012019e-04</td>\n",
       "      <td>-0.134113</td>\n",
       "      <td>0.893313</td>\n",
       "    </tr>\n",
       "    <tr>\n",
       "      <th>yearweek</th>\n",
       "      <td>-7.296307e-04</td>\n",
       "      <td>3.814514e-03</td>\n",
       "      <td>-0.191278</td>\n",
       "      <td>0.848308</td>\n",
       "    </tr>\n",
       "    <tr>\n",
       "      <th>lat</th>\n",
       "      <td>-5.310552e-03</td>\n",
       "      <td>2.768462e-03</td>\n",
       "      <td>-1.918232</td>\n",
       "      <td>0.055082</td>\n",
       "    </tr>\n",
       "    <tr>\n",
       "      <th>ads-bing</th>\n",
       "      <td>-1.545457e-02</td>\n",
       "      <td>7.642274e-02</td>\n",
       "      <td>-0.202225</td>\n",
       "      <td>0.839741</td>\n",
       "    </tr>\n",
       "    <tr>\n",
       "      <th>Thursday</th>\n",
       "      <td>-1.934941e-02</td>\n",
       "      <td>4.914974e-02</td>\n",
       "      <td>-0.393683</td>\n",
       "      <td>0.693815</td>\n",
       "    </tr>\n",
       "    <tr>\n",
       "      <th>Saturday</th>\n",
       "      <td>-3.006792e-02</td>\n",
       "      <td>3.950180e-02</td>\n",
       "      <td>-0.761178</td>\n",
       "      <td>0.446550</td>\n",
       "    </tr>\n",
       "    <tr>\n",
       "      <th>Wednesday</th>\n",
       "      <td>-4.748912e-02</td>\n",
       "      <td>6.486738e-02</td>\n",
       "      <td>-0.732095</td>\n",
       "      <td>0.464110</td>\n",
       "    </tr>\n",
       "    <tr>\n",
       "      <th>Monday</th>\n",
       "      <td>-5.008215e-02</td>\n",
       "      <td>6.431653e-02</td>\n",
       "      <td>-0.778682</td>\n",
       "      <td>0.436167</td>\n",
       "    </tr>\n",
       "  </tbody>\n",
       "</table>\n",
       "</div>"
      ],
      "text/plain": [
       "           coefficients            SE         z  p_values\n",
       "ads-yahoo  1.849534e-01  1.102922e-01  1.676939  0.093554\n",
       "Sunday     5.659854e-03  4.258681e-02  0.132902  0.894271\n",
       "user_id    2.622364e-08  4.946945e-08  0.530098  0.596044\n",
       "long      -1.074518e-04  8.012019e-04 -0.134113  0.893313\n",
       "yearweek  -7.296307e-04  3.814514e-03 -0.191278  0.848308\n",
       "lat       -5.310552e-03  2.768462e-03 -1.918232  0.055082\n",
       "ads-bing  -1.545457e-02  7.642274e-02 -0.202225  0.839741\n",
       "Thursday  -1.934941e-02  4.914974e-02 -0.393683  0.693815\n",
       "Saturday  -3.006792e-02  3.950180e-02 -0.761178  0.446550\n",
       "Wednesday -4.748912e-02  6.486738e-02 -0.732095  0.464110\n",
       "Monday    -5.008215e-02  6.431653e-02 -0.778682  0.436167"
      ]
     },
     "execution_count": 132,
     "metadata": {},
     "output_type": "execute_result"
    }
   ],
   "source": [
    "not_sig"
   ]
  },
  {
   "cell_type": "code",
   "execution_count": 93,
   "metadata": {},
   "outputs": [
    {
     "data": {
      "text/html": [
       "<div>\n",
       "<style scoped>\n",
       "    .dataframe tbody tr th:only-of-type {\n",
       "        vertical-align: middle;\n",
       "    }\n",
       "\n",
       "    .dataframe tbody tr th {\n",
       "        vertical-align: top;\n",
       "    }\n",
       "\n",
       "    .dataframe thead th {\n",
       "        text-align: right;\n",
       "    }\n",
       "</style>\n",
       "<table border=\"1\" class=\"dataframe\">\n",
       "  <thead>\n",
       "    <tr style=\"text-align: right;\">\n",
       "      <th></th>\n",
       "      <th>coefficients</th>\n",
       "      <th>SE</th>\n",
       "      <th>z</th>\n",
       "      <th>p_values</th>\n",
       "    </tr>\n",
       "  </thead>\n",
       "  <tbody>\n",
       "    <tr>\n",
       "      <th>friend_referral</th>\n",
       "      <td>1.161836</td>\n",
       "      <td>0.055770</td>\n",
       "      <td>20.832740</td>\n",
       "      <td>2.185927e-96</td>\n",
       "    </tr>\n",
       "    <tr>\n",
       "      <th>ads-google</th>\n",
       "      <td>0.571586</td>\n",
       "      <td>0.050135</td>\n",
       "      <td>11.401017</td>\n",
       "      <td>4.132620e-30</td>\n",
       "    </tr>\n",
       "    <tr>\n",
       "      <th>ads_facebook</th>\n",
       "      <td>0.561917</td>\n",
       "      <td>0.051242</td>\n",
       "      <td>10.966021</td>\n",
       "      <td>5.566842e-28</td>\n",
       "    </tr>\n",
       "    <tr>\n",
       "      <th>seo-bing</th>\n",
       "      <td>0.558358</td>\n",
       "      <td>0.164788</td>\n",
       "      <td>3.388340</td>\n",
       "      <td>7.031695e-04</td>\n",
       "    </tr>\n",
       "    <tr>\n",
       "      <th>mac</th>\n",
       "      <td>0.375499</td>\n",
       "      <td>0.051297</td>\n",
       "      <td>7.320034</td>\n",
       "      <td>2.479074e-13</td>\n",
       "    </tr>\n",
       "    <tr>\n",
       "      <th>seo-google</th>\n",
       "      <td>0.341295</td>\n",
       "      <td>0.067482</td>\n",
       "      <td>5.057557</td>\n",
       "      <td>4.246618e-07</td>\n",
       "    </tr>\n",
       "    <tr>\n",
       "      <th>seo-yahoo</th>\n",
       "      <td>0.320600</td>\n",
       "      <td>0.108929</td>\n",
       "      <td>2.943206</td>\n",
       "      <td>3.248321e-03</td>\n",
       "    </tr>\n",
       "    <tr>\n",
       "      <th>seo_facebook</th>\n",
       "      <td>0.274673</td>\n",
       "      <td>0.071107</td>\n",
       "      <td>3.862831</td>\n",
       "      <td>1.120804e-04</td>\n",
       "    </tr>\n",
       "    <tr>\n",
       "      <th>seo-other</th>\n",
       "      <td>0.272132</td>\n",
       "      <td>0.097622</td>\n",
       "      <td>2.787608</td>\n",
       "      <td>5.309879e-03</td>\n",
       "    </tr>\n",
       "    <tr>\n",
       "      <th>ads_other</th>\n",
       "      <td>0.171098</td>\n",
       "      <td>0.065520</td>\n",
       "      <td>2.611384</td>\n",
       "      <td>9.017652e-03</td>\n",
       "    </tr>\n",
       "    <tr>\n",
       "      <th>Tuesday</th>\n",
       "      <td>-0.142607</td>\n",
       "      <td>0.066179</td>\n",
       "      <td>-2.154876</td>\n",
       "      <td>3.117155e-02</td>\n",
       "    </tr>\n",
       "    <tr>\n",
       "      <th>linux</th>\n",
       "      <td>-0.727622</td>\n",
       "      <td>0.182428</td>\n",
       "      <td>-3.988539</td>\n",
       "      <td>6.648135e-05</td>\n",
       "    </tr>\n",
       "    <tr>\n",
       "      <th>iOS</th>\n",
       "      <td>-3.987359</td>\n",
       "      <td>0.158901</td>\n",
       "      <td>-25.093356</td>\n",
       "      <td>5.877255e-139</td>\n",
       "    </tr>\n",
       "    <tr>\n",
       "      <th>web</th>\n",
       "      <td>-4.274153</td>\n",
       "      <td>0.159084</td>\n",
       "      <td>-26.867274</td>\n",
       "      <td>5.300175e-159</td>\n",
       "    </tr>\n",
       "    <tr>\n",
       "      <th>android</th>\n",
       "      <td>-4.394895</td>\n",
       "      <td>0.160375</td>\n",
       "      <td>-27.403928</td>\n",
       "      <td>2.462282e-165</td>\n",
       "    </tr>\n",
       "    <tr>\n",
       "      <th>other</th>\n",
       "      <td>-4.565091</td>\n",
       "      <td>0.174898</td>\n",
       "      <td>-26.101410</td>\n",
       "      <td>3.513896e-150</td>\n",
       "    </tr>\n",
       "  </tbody>\n",
       "</table>\n",
       "</div>"
      ],
      "text/plain": [
       "                 coefficients        SE          z       p_values\n",
       "friend_referral      1.161836  0.055770  20.832740   2.185927e-96\n",
       "ads-google           0.571586  0.050135  11.401017   4.132620e-30\n",
       "ads_facebook         0.561917  0.051242  10.966021   5.566842e-28\n",
       "seo-bing             0.558358  0.164788   3.388340   7.031695e-04\n",
       "mac                  0.375499  0.051297   7.320034   2.479074e-13\n",
       "seo-google           0.341295  0.067482   5.057557   4.246618e-07\n",
       "seo-yahoo            0.320600  0.108929   2.943206   3.248321e-03\n",
       "seo_facebook         0.274673  0.071107   3.862831   1.120804e-04\n",
       "seo-other            0.272132  0.097622   2.787608   5.309879e-03\n",
       "ads_other            0.171098  0.065520   2.611384   9.017652e-03\n",
       "Tuesday             -0.142607  0.066179  -2.154876   3.117155e-02\n",
       "linux               -0.727622  0.182428  -3.988539   6.648135e-05\n",
       "iOS                 -3.987359  0.158901 -25.093356  5.877255e-139\n",
       "web                 -4.274153  0.159084 -26.867274  5.300175e-159\n",
       "android             -4.394895  0.160375 -27.403928  2.462282e-165\n",
       "other               -4.565091  0.174898 -26.101410  3.513896e-150"
      ]
     },
     "execution_count": 93,
     "metadata": {},
     "output_type": "execute_result"
    }
   ],
   "source": [
    "sig"
   ]
  },
  {
   "cell_type": "code",
   "execution_count": 130,
   "metadata": {},
   "outputs": [
    {
     "data": {
      "text/html": [
       "<div>\n",
       "<style scoped>\n",
       "    .dataframe tbody tr th:only-of-type {\n",
       "        vertical-align: middle;\n",
       "    }\n",
       "\n",
       "    .dataframe tbody tr th {\n",
       "        vertical-align: top;\n",
       "    }\n",
       "\n",
       "    .dataframe thead tr th {\n",
       "        text-align: left;\n",
       "    }\n",
       "</style>\n",
       "<table border=\"1\" class=\"dataframe\">\n",
       "  <thead>\n",
       "    <tr>\n",
       "      <th></th>\n",
       "      <th>operative_system</th>\n",
       "      <th colspan=\"2\" halign=\"left\">converted</th>\n",
       "      <th>converted_pct</th>\n",
       "    </tr>\n",
       "    <tr>\n",
       "      <th></th>\n",
       "      <th></th>\n",
       "      <th>sum</th>\n",
       "      <th>count</th>\n",
       "      <th></th>\n",
       "    </tr>\n",
       "  </thead>\n",
       "  <tbody>\n",
       "    <tr>\n",
       "      <th>3</th>\n",
       "      <td>mac</td>\n",
       "      <td>531</td>\n",
       "      <td>21831</td>\n",
       "      <td>0.024323</td>\n",
       "    </tr>\n",
       "    <tr>\n",
       "      <th>1</th>\n",
       "      <td>iOS</td>\n",
       "      <td>1847</td>\n",
       "      <td>82982</td>\n",
       "      <td>0.022258</td>\n",
       "    </tr>\n",
       "    <tr>\n",
       "      <th>5</th>\n",
       "      <td>windows</td>\n",
       "      <td>1467</td>\n",
       "      <td>87721</td>\n",
       "      <td>0.016723</td>\n",
       "    </tr>\n",
       "    <tr>\n",
       "      <th>0</th>\n",
       "      <td>android</td>\n",
       "      <td>969</td>\n",
       "      <td>65305</td>\n",
       "      <td>0.014838</td>\n",
       "    </tr>\n",
       "    <tr>\n",
       "      <th>4</th>\n",
       "      <td>other</td>\n",
       "      <td>174</td>\n",
       "      <td>14143</td>\n",
       "      <td>0.012303</td>\n",
       "    </tr>\n",
       "    <tr>\n",
       "      <th>2</th>\n",
       "      <td>linux</td>\n",
       "      <td>31</td>\n",
       "      <td>3634</td>\n",
       "      <td>0.008531</td>\n",
       "    </tr>\n",
       "  </tbody>\n",
       "</table>\n",
       "</div>"
      ],
      "text/plain": [
       "  operative_system converted        converted_pct\n",
       "                         sum  count              \n",
       "3              mac       531  21831      0.024323\n",
       "1              iOS      1847  82982      0.022258\n",
       "5          windows      1467  87721      0.016723\n",
       "0          android       969  65305      0.014838\n",
       "4            other       174  14143      0.012303\n",
       "2            linux        31   3634      0.008531"
      ]
     },
     "execution_count": 130,
     "metadata": {},
     "output_type": "execute_result"
    }
   ],
   "source": [
    "g = df[['operative_system', 'converted']].groupby('operative_system').agg(['sum', 'count']).reset_index()\n",
    "g['converted_pct'] = g['converted']['sum'] / g['converted']['count']\n",
    "g.sort_values(by='converted_pct', ascending=False)"
   ]
  },
  {
   "cell_type": "code",
   "execution_count": 126,
   "metadata": {},
   "outputs": [
    {
     "data": {
      "text/plain": [
       "<matplotlib.axes._subplots.AxesSubplot at 0x7fc80b3619e8>"
      ]
     },
     "execution_count": 126,
     "metadata": {},
     "output_type": "execute_result"
    },
    {
     "data": {
      "image/png": "[encoded data removed]",
      "text/plain": [
       "<Figure size 432x288 with 1 Axes>"
      ]
     },
     "metadata": {
      "needs_background": "light"
     },
     "output_type": "display_data"
    }
   ],
   "source": [
    "g.plot(x='operative_system', y='converted_pct', kind='bar')"
   ]
  },
  {
   "cell_type": "code",
   "execution_count": 198,
   "metadata": {},
   "outputs": [
    {
     "data": {
      "text/plain": [
       "<seaborn.axisgrid.PairGrid at 0x7fc7e93ceeb8>"
      ]
     },
     "execution_count": 198,
     "metadata": {},
     "output_type": "execute_result"
    },
    {
     "data": {
      "image/png": "[encoded data removed]",
      "text/plain": [
       "<Figure size 900x900 with 30 Axes>"
      ]
     },
     "metadata": {
      "needs_background": "light"
     },
     "output_type": "display_data"
    }
   ],
   "source": [
    "sns.pairplot(df[dtypes['int64'] + dtypes['float64']], size=2.5)"
   ]
  },
  {
   "cell_type": "code",
   "execution_count": 194,
   "metadata": {},
   "outputs": [
    {
     "data": {
      "text/plain": [
       "[]"
      ]
     },
     "execution_count": 194,
     "metadata": {},
     "output_type": "execute_result"
    },
    {
     "data": {
      "image/png": "[encoded data removed]",
      "text/plain": [
       "<Figure size 864x648 with 2 Axes>"
      ]
     },
     "metadata": {
      "needs_background": "light"
     },
     "output_type": "display_data"
    }
   ],
   "source": [
    "def correlation_heatmap(df, target=None, n_largest=None):\n",
    "    f, ax = plt.subplots(figsize=(12, 9))\n",
    "    # evidence for using both Kendall's Tau and Spearman's rho if the feature distributions are not\n",
    "    # assumed to be normal: https://stats.stackexchange.com/questions/3943/kendall-tau-or-spearmans-rho\n",
    "    # Some commenters say that Spearman's rho is more intepretable because it extends the idea of R^\n",
    "    # in that it quantifies the difference between the % of concordant and discordant pairs among all\n",
    "    # possible pairwise events.\n",
    "    corrmat = df.corr(method='spearman')\n",
    "    if n_largest is not None:\n",
    "        cols = corrmat.nlargest(n_largest, target)  [target].index\n",
    "        cm = np.corrcoef(df[cols].values.T)\n",
    "        sns.heatmap(cm, cbar=True, annot=True, square=True, fmt='.2f', annot_kws={'size': 10}, yticklabels=cols.values,\n",
    "                    xticklabels=cols.values)\n",
    "    else:\n",
    "        cols = []\n",
    "        sns.heatmap(corrmat, vmax=.8, square=True)\n",
    "\n",
    "    return cols\n",
    "\n",
    "\n",
    "correlation_heatmap(df, target)"
   ]
  },
  {
   "cell_type": "code",
   "execution_count": 241,
   "metadata": {},
   "outputs": [
    {
     "data": {
      "text/plain": [
       "True"
      ]
     },
     "execution_count": 241,
     "metadata": {},
     "output_type": "execute_result"
    }
   ],
   "source": [
    "len(xtrain) == len(ytrain)"
   ]
  },
  {
   "cell_type": "code",
   "execution_count": 238,
   "metadata": {},
   "outputs": [
    {
     "name": "stdout",
     "output_type": "stream",
     "text": [
      "0.0 0.0 nan\n"
     ]
    },
    {
     "data": {
      "text/html": [
       "<div>\n",
       "<style scoped>\n",
       "    .dataframe tbody tr th:only-of-type {\n",
       "        vertical-align: middle;\n",
       "    }\n",
       "\n",
       "    .dataframe tbody tr th {\n",
       "        vertical-align: top;\n",
       "    }\n",
       "\n",
       "    .dataframe thead th {\n",
       "        text-align: right;\n",
       "    }\n",
       "</style>\n",
       "<table border=\"1\" class=\"dataframe\">\n",
       "  <thead>\n",
       "    <tr style=\"text-align: right;\">\n",
       "      <th></th>\n",
       "      <th>fit_time</th>\n",
       "      <th>score_time</th>\n",
       "      <th>test_r2</th>\n",
       "      <th>train_r2</th>\n",
       "      <th>test_recall</th>\n",
       "      <th>train_recall</th>\n",
       "      <th>test_precision</th>\n",
       "      <th>train_precision</th>\n",
       "      <th>recall_diff</th>\n",
       "    </tr>\n",
       "  </thead>\n",
       "  <tbody>\n",
       "    <tr>\n",
       "      <th>0</th>\n",
       "      <td>3.917832</td>\n",
       "      <td>0.068186</td>\n",
       "      <td>-0.018547</td>\n",
       "      <td>-0.018547</td>\n",
       "      <td>0.0</td>\n",
       "      <td>0.000000</td>\n",
       "      <td>0.0</td>\n",
       "      <td>0.0</td>\n",
       "      <td>0.000000</td>\n",
       "    </tr>\n",
       "    <tr>\n",
       "      <th>1</th>\n",
       "      <td>4.080844</td>\n",
       "      <td>0.071351</td>\n",
       "      <td>-0.018547</td>\n",
       "      <td>-0.018230</td>\n",
       "      <td>0.0</td>\n",
       "      <td>0.000311</td>\n",
       "      <td>0.0</td>\n",
       "      <td>1.0</td>\n",
       "      <td>-0.000311</td>\n",
       "    </tr>\n",
       "    <tr>\n",
       "      <th>2</th>\n",
       "      <td>4.180117</td>\n",
       "      <td>0.070633</td>\n",
       "      <td>-0.018547</td>\n",
       "      <td>-0.017913</td>\n",
       "      <td>0.0</td>\n",
       "      <td>0.000623</td>\n",
       "      <td>0.0</td>\n",
       "      <td>1.0</td>\n",
       "      <td>-0.000623</td>\n",
       "    </tr>\n",
       "    <tr>\n",
       "      <th>3</th>\n",
       "      <td>4.303739</td>\n",
       "      <td>0.079184</td>\n",
       "      <td>-0.018547</td>\n",
       "      <td>-0.018547</td>\n",
       "      <td>0.0</td>\n",
       "      <td>0.000000</td>\n",
       "      <td>0.0</td>\n",
       "      <td>0.0</td>\n",
       "      <td>0.000000</td>\n",
       "    </tr>\n",
       "    <tr>\n",
       "      <th>4</th>\n",
       "      <td>5.011508</td>\n",
       "      <td>0.077154</td>\n",
       "      <td>-0.018547</td>\n",
       "      <td>-0.018230</td>\n",
       "      <td>0.0</td>\n",
       "      <td>0.000311</td>\n",
       "      <td>0.0</td>\n",
       "      <td>1.0</td>\n",
       "      <td>-0.000311</td>\n",
       "    </tr>\n",
       "  </tbody>\n",
       "</table>\n",
       "</div>"
      ],
      "text/plain": [
       "   fit_time  score_time   test_r2  train_r2  test_recall  train_recall  test_precision  train_precision  recall_diff\n",
       "0  3.917832    0.068186 -0.018547 -0.018547          0.0      0.000000             0.0              0.0     0.000000\n",
       "1  4.080844    0.071351 -0.018547 -0.018230          0.0      0.000311             0.0              1.0    -0.000311\n",
       "2  4.180117    0.070633 -0.018547 -0.017913          0.0      0.000623             0.0              1.0    -0.000623\n",
       "3  4.303739    0.079184 -0.018547 -0.018547          0.0      0.000000             0.0              0.0     0.000000\n",
       "4  5.011508    0.077154 -0.018547 -0.018230          0.0      0.000311             0.0              1.0    -0.000311"
      ]
     },
     "execution_count": 238,
     "metadata": {},
     "output_type": "execute_result"
    }
   ],
   "source": [
    "clf = XGBClassifier(min_child_weight=5)\n",
    "scoring = {\n",
    "    'r2': 'r2',\n",
    "    'recall': 'recall',\n",
    "    'precision': 'precision'\n",
    "}\n",
    "scores = cross_validate(clf, xtrain, ytrain, scoring=scoring, cv=cv, return_train_score=True)\n",
    "results = pd.DataFrame(scores)\n",
    "results['recall_diff'] = results['test_recall'] - results['train_recall']\n",
    "std = results['test_recall'].std()\n",
    "mean = results['test_recall'].mean()\n",
    "print(mean, std, std / mean)\n",
    "results"
   ]
  },
  {
   "cell_type": "code",
   "execution_count": null,
   "metadata": {},
   "outputs": [],
   "source": [
    "plot_partial_dependence"
   ]
  },
  {
   "cell_type": "code",
   "execution_count": 242,
   "metadata": {},
   "outputs": [
    {
     "ename": "NameError",
     "evalue": "name 'recall' is not defined",
     "output_type": "error",
     "traceback": [
      "\u001b[0;31m---------------------------------------------------------------------------\u001b[0m",
      "\u001b[0;31mNameError\u001b[0m                                 Traceback (most recent call last)",
      "\u001b[0;32m<ipython-input-242-5fdfba78c91c>\u001b[0m in \u001b[0;36m<module>\u001b[0;34m\u001b[0m\n\u001b[1;32m      1\u001b[0m \u001b[0mclf\u001b[0m\u001b[0;34m.\u001b[0m\u001b[0mfit\u001b[0m\u001b[0;34m(\u001b[0m\u001b[0mxtrain\u001b[0m\u001b[0;34m,\u001b[0m \u001b[0mytrain\u001b[0m\u001b[0;34m)\u001b[0m\u001b[0;34m\u001b[0m\u001b[0;34m\u001b[0m\u001b[0m\n\u001b[1;32m      2\u001b[0m \u001b[0;34m\u001b[0m\u001b[0m\n\u001b[0;32m----> 3\u001b[0;31m \u001b[0mrecall\u001b[0m\u001b[0;34m(\u001b[0m\u001b[0mclf\u001b[0m\u001b[0;34m.\u001b[0m\u001b[0mpredict\u001b[0m\u001b[0;34m(\u001b[0m\u001b[0mxtest\u001b[0m\u001b[0;34m)\u001b[0m\u001b[0;34m,\u001b[0m \u001b[0mytest\u001b[0m\u001b[0;34m)\u001b[0m\u001b[0;34m\u001b[0m\u001b[0;34m\u001b[0m\u001b[0m\n\u001b[0m",
      "\u001b[0;31mNameError\u001b[0m: name 'recall' is not defined"
     ]
    }
   ],
   "source": [
    "clf.fit(xtrain, ytrain)"
   ]
  },
  {
   "cell_type": "code",
   "execution_count": 257,
   "metadata": {},
   "outputs": [
    {
     "data": {
      "text/plain": [
       "0.018209277434101917"
      ]
     },
     "execution_count": 257,
     "metadata": {},
     "output_type": "execute_result"
    }
   ],
   "source": [
    "np.sum(ytrain) / len(ytrain)"
   ]
  },
  {
   "cell_type": "code",
   "execution_count": 251,
   "metadata": {},
   "outputs": [
    {
     "data": {
      "text/plain": [
       "array([0, 0, 0, 0, 0, 0, 0, 0, 0, 0])"
      ]
     },
     "execution_count": 251,
     "metadata": {},
     "output_type": "execute_result"
    }
   ],
   "source": [
    "pred = clf.predict(xtest)\n",
    "pred[:10]"
   ]
  },
  {
   "cell_type": "code",
   "execution_count": 253,
   "metadata": {},
   "outputs": [
    {
     "data": {
      "text/plain": [
       "array([0])"
      ]
     },
     "execution_count": 253,
     "metadata": {},
     "output_type": "execute_result"
    }
   ],
   "source": [
    "np.unique(pred)"
   ]
  },
  {
   "cell_type": "code",
   "execution_count": 244,
   "metadata": {},
   "outputs": [
    {
     "data": {
      "text/plain": [
       "0.0"
      ]
     },
     "execution_count": 244,
     "metadata": {},
     "output_type": "execute_result"
    }
   ],
   "source": [
    "precision_score(ytest, clf.predict(xtest))"
   ]
  }
 ],
 "metadata": {
  "kernelspec": {
   "display_name": "Python [conda env:env] *",
   "language": "python",
   "name": "conda-env-env-py"
  },
  "language_info": {
   "codemirror_mode": {
    "name": "ipython",
    "version": 3
   },
   "file_extension": ".py",
   "mimetype": "text/x-python",
   "name": "python",
   "nbconvert_exporter": "python",
   "pygments_lexer": "ipython3",
   "version": "3.6.10"
  }
 },
 "nbformat": 4,
 "nbformat_minor": 4
}
